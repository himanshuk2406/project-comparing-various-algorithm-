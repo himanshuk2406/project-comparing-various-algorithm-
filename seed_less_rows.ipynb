{
 "cells": [
  {
   "cell_type": "code",
   "execution_count": 1,
   "metadata": {},
   "outputs": [],
   "source": [
    "import pandas as pd\n",
    "import numpy as np\n",
    "import matplotlib.pyplot as plt\n",
    "import seaborn as sns\n",
    "import statsmodels.formula.api as smf\n",
    "from sklearn.metrics import accuracy_score"
   ]
  },
  {
   "cell_type": "code",
   "execution_count": 2,
   "metadata": {},
   "outputs": [],
   "source": [
    "from sklearn.linear_model import LogisticRegression\n",
    "from sklearn.model_selection import train_test_split\n",
    "from sklearn import metrics\n",
    "from sklearn.metrics import confusion_matrix\n",
    "from sklearn.metrics import classification_report\n",
    "from sklearn.naive_bayes import GaussianNB\n",
    "from sklearn.tree import DecisionTreeClassifier\n",
    "from sklearn.ensemble import  RandomForestClassifier\n",
    "from sklearn.metrics import roc_curve\n",
    "from sklearn.metrics import roc_auc_score\n",
    "from sklearn.datasets import make_classification"
   ]
  },
  {
   "cell_type": "code",
   "execution_count": 3,
   "metadata": {},
   "outputs": [],
   "source": [
    "#reading the .csv data file\n",
    "data= pd.read_csv(r\"C:\\Users\\mpkha\\Desktop\\VIT Course 2\\project\\project\\seeds-less-rows.csv\")"
   ]
  },
  {
   "cell_type": "code",
   "execution_count": 4,
   "metadata": {},
   "outputs": [
    {
     "data": {
      "text/html": [
       "<div>\n",
       "<style scoped>\n",
       "    .dataframe tbody tr th:only-of-type {\n",
       "        vertical-align: middle;\n",
       "    }\n",
       "\n",
       "    .dataframe tbody tr th {\n",
       "        vertical-align: top;\n",
       "    }\n",
       "\n",
       "    .dataframe thead th {\n",
       "        text-align: right;\n",
       "    }\n",
       "</style>\n",
       "<table border=\"1\" class=\"dataframe\">\n",
       "  <thead>\n",
       "    <tr style=\"text-align: right;\">\n",
       "      <th></th>\n",
       "      <th>area</th>\n",
       "      <th>perimeter</th>\n",
       "      <th>compactness</th>\n",
       "      <th>length</th>\n",
       "      <th>width</th>\n",
       "      <th>asymmetry_coefficient</th>\n",
       "      <th>groove_length</th>\n",
       "      <th>grain_variety</th>\n",
       "    </tr>\n",
       "  </thead>\n",
       "  <tbody>\n",
       "    <tr>\n",
       "      <td>0</td>\n",
       "      <td>14.88</td>\n",
       "      <td>14.57</td>\n",
       "      <td>0.8811</td>\n",
       "      <td>5.554</td>\n",
       "      <td>3.333</td>\n",
       "      <td>1.018</td>\n",
       "      <td>4.956</td>\n",
       "      <td>Kama wheat</td>\n",
       "    </tr>\n",
       "    <tr>\n",
       "      <td>1</td>\n",
       "      <td>14.69</td>\n",
       "      <td>14.49</td>\n",
       "      <td>0.8799</td>\n",
       "      <td>5.563</td>\n",
       "      <td>3.259</td>\n",
       "      <td>3.586</td>\n",
       "      <td>5.219</td>\n",
       "      <td>Kama wheat</td>\n",
       "    </tr>\n",
       "    <tr>\n",
       "      <td>2</td>\n",
       "      <td>14.03</td>\n",
       "      <td>14.16</td>\n",
       "      <td>0.8796</td>\n",
       "      <td>5.438</td>\n",
       "      <td>3.201</td>\n",
       "      <td>1.717</td>\n",
       "      <td>5.001</td>\n",
       "      <td>Kama wheat</td>\n",
       "    </tr>\n",
       "    <tr>\n",
       "      <td>3</td>\n",
       "      <td>13.99</td>\n",
       "      <td>13.83</td>\n",
       "      <td>0.9183</td>\n",
       "      <td>5.119</td>\n",
       "      <td>3.383</td>\n",
       "      <td>5.234</td>\n",
       "      <td>4.781</td>\n",
       "      <td>Kama wheat</td>\n",
       "    </tr>\n",
       "    <tr>\n",
       "      <td>4</td>\n",
       "      <td>14.11</td>\n",
       "      <td>14.26</td>\n",
       "      <td>0.8722</td>\n",
       "      <td>5.520</td>\n",
       "      <td>3.168</td>\n",
       "      <td>2.688</td>\n",
       "      <td>5.219</td>\n",
       "      <td>Kama wheat</td>\n",
       "    </tr>\n",
       "    <tr>\n",
       "      <td>5</td>\n",
       "      <td>13.02</td>\n",
       "      <td>13.76</td>\n",
       "      <td>0.8641</td>\n",
       "      <td>5.395</td>\n",
       "      <td>3.026</td>\n",
       "      <td>3.373</td>\n",
       "      <td>4.825</td>\n",
       "      <td>Kama wheat</td>\n",
       "    </tr>\n",
       "    <tr>\n",
       "      <td>6</td>\n",
       "      <td>15.49</td>\n",
       "      <td>14.94</td>\n",
       "      <td>0.8724</td>\n",
       "      <td>5.757</td>\n",
       "      <td>3.371</td>\n",
       "      <td>3.412</td>\n",
       "      <td>5.228</td>\n",
       "      <td>Kama wheat</td>\n",
       "    </tr>\n",
       "    <tr>\n",
       "      <td>7</td>\n",
       "      <td>16.20</td>\n",
       "      <td>15.27</td>\n",
       "      <td>0.8734</td>\n",
       "      <td>5.826</td>\n",
       "      <td>3.464</td>\n",
       "      <td>2.823</td>\n",
       "      <td>5.527</td>\n",
       "      <td>Kama wheat</td>\n",
       "    </tr>\n",
       "    <tr>\n",
       "      <td>8</td>\n",
       "      <td>13.50</td>\n",
       "      <td>13.85</td>\n",
       "      <td>0.8852</td>\n",
       "      <td>5.351</td>\n",
       "      <td>3.158</td>\n",
       "      <td>2.249</td>\n",
       "      <td>5.176</td>\n",
       "      <td>Kama wheat</td>\n",
       "    </tr>\n",
       "    <tr>\n",
       "      <td>9</td>\n",
       "      <td>15.36</td>\n",
       "      <td>14.76</td>\n",
       "      <td>0.8861</td>\n",
       "      <td>5.701</td>\n",
       "      <td>3.393</td>\n",
       "      <td>1.367</td>\n",
       "      <td>5.132</td>\n",
       "      <td>Kama wheat</td>\n",
       "    </tr>\n",
       "  </tbody>\n",
       "</table>\n",
       "</div>"
      ],
      "text/plain": [
       "    area  perimeter  compactness  length  width  asymmetry_coefficient  \\\n",
       "0  14.88      14.57       0.8811   5.554  3.333                  1.018   \n",
       "1  14.69      14.49       0.8799   5.563  3.259                  3.586   \n",
       "2  14.03      14.16       0.8796   5.438  3.201                  1.717   \n",
       "3  13.99      13.83       0.9183   5.119  3.383                  5.234   \n",
       "4  14.11      14.26       0.8722   5.520  3.168                  2.688   \n",
       "5  13.02      13.76       0.8641   5.395  3.026                  3.373   \n",
       "6  15.49      14.94       0.8724   5.757  3.371                  3.412   \n",
       "7  16.20      15.27       0.8734   5.826  3.464                  2.823   \n",
       "8  13.50      13.85       0.8852   5.351  3.158                  2.249   \n",
       "9  15.36      14.76       0.8861   5.701  3.393                  1.367   \n",
       "\n",
       "   groove_length grain_variety  \n",
       "0          4.956    Kama wheat  \n",
       "1          5.219    Kama wheat  \n",
       "2          5.001    Kama wheat  \n",
       "3          4.781    Kama wheat  \n",
       "4          5.219    Kama wheat  \n",
       "5          4.825    Kama wheat  \n",
       "6          5.228    Kama wheat  \n",
       "7          5.527    Kama wheat  \n",
       "8          5.176    Kama wheat  \n",
       "9          5.132    Kama wheat  "
      ]
     },
     "execution_count": 4,
     "metadata": {},
     "output_type": "execute_result"
    }
   ],
   "source": [
    "data.head(10)"
   ]
  },
  {
   "cell_type": "code",
   "execution_count": 5,
   "metadata": {},
   "outputs": [
    {
     "name": "stdout",
     "output_type": "stream",
     "text": [
      "<class 'pandas.core.frame.DataFrame'>\n",
      "RangeIndex: 42 entries, 0 to 41\n",
      "Data columns (total 8 columns):\n",
      "area                     42 non-null float64\n",
      "perimeter                42 non-null float64\n",
      "compactness              42 non-null float64\n",
      "length                   42 non-null float64\n",
      "width                    42 non-null float64\n",
      "asymmetry_coefficient    42 non-null float64\n",
      "groove_length            42 non-null float64\n",
      "grain_variety            42 non-null object\n",
      "dtypes: float64(7), object(1)\n",
      "memory usage: 2.8+ KB\n"
     ]
    }
   ],
   "source": [
    "data.info()"
   ]
  },
  {
   "cell_type": "code",
   "execution_count": 6,
   "metadata": {},
   "outputs": [
    {
     "data": {
      "text/plain": [
       "area                     0\n",
       "perimeter                0\n",
       "compactness              0\n",
       "length                   0\n",
       "width                    0\n",
       "asymmetry_coefficient    0\n",
       "groove_length            0\n",
       "grain_variety            0\n",
       "dtype: int64"
      ]
     },
     "execution_count": 6,
     "metadata": {},
     "output_type": "execute_result"
    }
   ],
   "source": [
    "data.isnull().sum()"
   ]
  },
  {
   "cell_type": "code",
   "execution_count": 7,
   "metadata": {},
   "outputs": [
    {
     "data": {
      "text/plain": [
       "Index(['area', 'perimeter', 'compactness', 'length', 'width',\n",
       "       'asymmetry_coefficient', 'groove_length', 'grain_variety'],\n",
       "      dtype='object')"
      ]
     },
     "execution_count": 7,
     "metadata": {},
     "output_type": "execute_result"
    }
   ],
   "source": [
    "data.columns"
   ]
  },
  {
   "cell_type": "code",
   "execution_count": 8,
   "metadata": {},
   "outputs": [
    {
     "data": {
      "text/plain": [
       "(42, 8)"
      ]
     },
     "execution_count": 8,
     "metadata": {},
     "output_type": "execute_result"
    }
   ],
   "source": [
    "data.shape"
   ]
  },
  {
   "cell_type": "code",
   "execution_count": 9,
   "metadata": {},
   "outputs": [
    {
     "data": {
      "text/plain": [
       "<matplotlib.axes._subplots.AxesSubplot at 0x1cd6ba0c548>"
      ]
     },
     "execution_count": 9,
     "metadata": {},
     "output_type": "execute_result"
    },
    {
     "data": {
      "image/png": "[encoded data removed]",
      "text/plain": [
       "<Figure size 432x288 with 1 Axes>"
      ]
     },
     "metadata": {
      "needs_background": "light"
     },
     "output_type": "display_data"
    }
   ],
   "source": [
    "data['area'].plot.hist()"
   ]
  },
  {
   "cell_type": "code",
   "execution_count": 10,
   "metadata": {},
   "outputs": [
    {
     "data": {
      "text/plain": [
       "<matplotlib.axes._subplots.AxesSubplot at 0x1cd6bd2fe88>"
      ]
     },
     "execution_count": 10,
     "metadata": {},
     "output_type": "execute_result"
    },
    {
     "data": {
      "image/png": "[encoded data removed]",
      "text/plain": [
       "<Figure size 432x288 with 1 Axes>"
      ]
     },
     "metadata": {
      "needs_background": "light"
     },
     "output_type": "display_data"
    }
   ],
   "source": [
    "data['perimeter'].plot.hist()"
   ]
  },
  {
   "cell_type": "code",
   "execution_count": 11,
   "metadata": {},
   "outputs": [
    {
     "data": {
      "text/plain": [
       "<matplotlib.axes._subplots.AxesSubplot at 0x1cd6be20c08>"
      ]
     },
     "execution_count": 11,
     "metadata": {},
     "output_type": "execute_result"
    },
    {
     "data": {
      "image/png": "[encoded data removed]",
      "text/plain": [
       "<Figure size 432x288 with 1 Axes>"
      ]
     },
     "metadata": {
      "needs_background": "light"
     },
     "output_type": "display_data"
    }
   ],
   "source": [
    "data['compactness'].plot.hist()"
   ]
  },
  {
   "cell_type": "code",
   "execution_count": 12,
   "metadata": {},
   "outputs": [
    {
     "data": {
      "text/plain": [
       "<matplotlib.axes._subplots.AxesSubplot at 0x1cd6be91a48>"
      ]
     },
     "execution_count": 12,
     "metadata": {},
     "output_type": "execute_result"
    },
    {
     "data": {
      "image/png": "[encoded data removed]",
      "text/plain": [
       "<Figure size 432x288 with 1 Axes>"
      ]
     },
     "metadata": {
      "needs_background": "light"
     },
     "output_type": "display_data"
    }
   ],
   "source": [
    "data['length'].plot.hist()"
   ]
  },
  {
   "cell_type": "code",
   "execution_count": 13,
   "metadata": {},
   "outputs": [
    {
     "data": {
      "text/plain": [
       "<matplotlib.axes._subplots.AxesSubplot at 0x1cd6bf17088>"
      ]
     },
     "execution_count": 13,
     "metadata": {},
     "output_type": "execute_result"
    },
    {
     "data": {
      "image/png": "[encoded data removed]",
      "text/plain": [
       "<Figure size 432x288 with 1 Axes>"
      ]
     },
     "metadata": {
      "needs_background": "light"
     },
     "output_type": "display_data"
    }
   ],
   "source": [
    "data['width'].plot.hist()"
   ]
  },
  {
   "cell_type": "code",
   "execution_count": 14,
   "metadata": {},
   "outputs": [
    {
     "data": {
      "text/plain": [
       "<matplotlib.axes._subplots.AxesSubplot at 0x1cd6bf9c408>"
      ]
     },
     "execution_count": 14,
     "metadata": {},
     "output_type": "execute_result"
    },
    {
     "data": {
      "image/png": "[encoded data removed]",
      "text/plain": [
       "<Figure size 432x288 with 1 Axes>"
      ]
     },
     "metadata": {
      "needs_background": "light"
     },
     "output_type": "display_data"
    }
   ],
   "source": [
    "data['asymmetry_coefficient'].plot.hist()"
   ]
  },
  {
   "cell_type": "code",
   "execution_count": 15,
   "metadata": {},
   "outputs": [
    {
     "data": {
      "text/plain": [
       "<matplotlib.axes._subplots.AxesSubplot at 0x1cd6c009548>"
      ]
     },
     "execution_count": 15,
     "metadata": {},
     "output_type": "execute_result"
    },
    {
     "data": {
      "image/png": "[encoded data removed]",
      "text/plain": [
       "<Figure size 432x288 with 1 Axes>"
      ]
     },
     "metadata": {
      "needs_background": "light"
     },
     "output_type": "display_data"
    }
   ],
   "source": [
    "data['groove_length'].plot.hist()"
   ]
  },
  {
   "cell_type": "code",
   "execution_count": 16,
   "metadata": {},
   "outputs": [
    {
     "data": {
      "text/html": [
       "<div>\n",
       "<style scoped>\n",
       "    .dataframe tbody tr th:only-of-type {\n",
       "        vertical-align: middle;\n",
       "    }\n",
       "\n",
       "    .dataframe tbody tr th {\n",
       "        vertical-align: top;\n",
       "    }\n",
       "\n",
       "    .dataframe thead th {\n",
       "        text-align: right;\n",
       "    }\n",
       "</style>\n",
       "<table border=\"1\" class=\"dataframe\">\n",
       "  <thead>\n",
       "    <tr style=\"text-align: right;\">\n",
       "      <th></th>\n",
       "      <th>area</th>\n",
       "      <th>perimeter</th>\n",
       "      <th>compactness</th>\n",
       "      <th>length</th>\n",
       "      <th>width</th>\n",
       "      <th>asymmetry_coefficient</th>\n",
       "      <th>groove_length</th>\n",
       "    </tr>\n",
       "  </thead>\n",
       "  <tbody>\n",
       "    <tr>\n",
       "      <td>count</td>\n",
       "      <td>42.000000</td>\n",
       "      <td>42.000000</td>\n",
       "      <td>42.000000</td>\n",
       "      <td>42.000000</td>\n",
       "      <td>42.000000</td>\n",
       "      <td>42.000000</td>\n",
       "      <td>42.000000</td>\n",
       "    </tr>\n",
       "    <tr>\n",
       "      <td>mean</td>\n",
       "      <td>14.923333</td>\n",
       "      <td>14.582619</td>\n",
       "      <td>0.873200</td>\n",
       "      <td>5.614214</td>\n",
       "      <td>3.278429</td>\n",
       "      <td>3.707095</td>\n",
       "      <td>5.396119</td>\n",
       "    </tr>\n",
       "    <tr>\n",
       "      <td>std</td>\n",
       "      <td>2.852972</td>\n",
       "      <td>1.289640</td>\n",
       "      <td>0.022442</td>\n",
       "      <td>0.418348</td>\n",
       "      <td>0.375864</td>\n",
       "      <td>1.521039</td>\n",
       "      <td>0.461898</td>\n",
       "    </tr>\n",
       "    <tr>\n",
       "      <td>min</td>\n",
       "      <td>11.230000</td>\n",
       "      <td>12.630000</td>\n",
       "      <td>0.819800</td>\n",
       "      <td>4.902000</td>\n",
       "      <td>2.710000</td>\n",
       "      <td>1.018000</td>\n",
       "      <td>4.703000</td>\n",
       "    </tr>\n",
       "    <tr>\n",
       "      <td>25%</td>\n",
       "      <td>12.445000</td>\n",
       "      <td>13.467500</td>\n",
       "      <td>0.860250</td>\n",
       "      <td>5.256750</td>\n",
       "      <td>2.927000</td>\n",
       "      <td>2.716500</td>\n",
       "      <td>5.013250</td>\n",
       "    </tr>\n",
       "    <tr>\n",
       "      <td>50%</td>\n",
       "      <td>14.400000</td>\n",
       "      <td>14.360000</td>\n",
       "      <td>0.875300</td>\n",
       "      <td>5.547500</td>\n",
       "      <td>3.296000</td>\n",
       "      <td>3.556000</td>\n",
       "      <td>5.223500</td>\n",
       "    </tr>\n",
       "    <tr>\n",
       "      <td>75%</td>\n",
       "      <td>17.832500</td>\n",
       "      <td>15.897500</td>\n",
       "      <td>0.885875</td>\n",
       "      <td>6.039750</td>\n",
       "      <td>3.571250</td>\n",
       "      <td>4.842250</td>\n",
       "      <td>5.878500</td>\n",
       "    </tr>\n",
       "    <tr>\n",
       "      <td>max</td>\n",
       "      <td>19.380000</td>\n",
       "      <td>16.720000</td>\n",
       "      <td>0.918300</td>\n",
       "      <td>6.341000</td>\n",
       "      <td>3.897000</td>\n",
       "      <td>7.035000</td>\n",
       "      <td>6.238000</td>\n",
       "    </tr>\n",
       "  </tbody>\n",
       "</table>\n",
       "</div>"
      ],
      "text/plain": [
       "            area  perimeter  compactness     length      width  \\\n",
       "count  42.000000  42.000000    42.000000  42.000000  42.000000   \n",
       "mean   14.923333  14.582619     0.873200   5.614214   3.278429   \n",
       "std     2.852972   1.289640     0.022442   0.418348   0.375864   \n",
       "min    11.230000  12.630000     0.819800   4.902000   2.710000   \n",
       "25%    12.445000  13.467500     0.860250   5.256750   2.927000   \n",
       "50%    14.400000  14.360000     0.875300   5.547500   3.296000   \n",
       "75%    17.832500  15.897500     0.885875   6.039750   3.571250   \n",
       "max    19.380000  16.720000     0.918300   6.341000   3.897000   \n",
       "\n",
       "       asymmetry_coefficient  groove_length  \n",
       "count              42.000000      42.000000  \n",
       "mean                3.707095       5.396119  \n",
       "std                 1.521039       0.461898  \n",
       "min                 1.018000       4.703000  \n",
       "25%                 2.716500       5.013250  \n",
       "50%                 3.556000       5.223500  \n",
       "75%                 4.842250       5.878500  \n",
       "max                 7.035000       6.238000  "
      ]
     },
     "execution_count": 16,
     "metadata": {},
     "output_type": "execute_result"
    }
   ],
   "source": [
    "data.describe()"
   ]
  },
  {
   "cell_type": "code",
   "execution_count": 17,
   "metadata": {},
   "outputs": [
    {
     "data": {
      "text/html": [
       "<div>\n",
       "<style scoped>\n",
       "    .dataframe tbody tr th:only-of-type {\n",
       "        vertical-align: middle;\n",
       "    }\n",
       "\n",
       "    .dataframe tbody tr th {\n",
       "        vertical-align: top;\n",
       "    }\n",
       "\n",
       "    .dataframe thead th {\n",
       "        text-align: right;\n",
       "    }\n",
       "</style>\n",
       "<table border=\"1\" class=\"dataframe\">\n",
       "  <thead>\n",
       "    <tr style=\"text-align: right;\">\n",
       "      <th></th>\n",
       "      <th>area</th>\n",
       "      <th>perimeter</th>\n",
       "      <th>compactness</th>\n",
       "      <th>length</th>\n",
       "      <th>width</th>\n",
       "      <th>asymmetry_coefficient</th>\n",
       "      <th>groove_length</th>\n",
       "    </tr>\n",
       "  </thead>\n",
       "  <tbody>\n",
       "    <tr>\n",
       "      <td>area</td>\n",
       "      <td>1.000000</td>\n",
       "      <td>0.994135</td>\n",
       "      <td>0.607557</td>\n",
       "      <td>0.952675</td>\n",
       "      <td>0.973153</td>\n",
       "      <td>-0.225056</td>\n",
       "      <td>0.864875</td>\n",
       "    </tr>\n",
       "    <tr>\n",
       "      <td>perimeter</td>\n",
       "      <td>0.994135</td>\n",
       "      <td>1.000000</td>\n",
       "      <td>0.525224</td>\n",
       "      <td>0.975333</td>\n",
       "      <td>0.947229</td>\n",
       "      <td>-0.197613</td>\n",
       "      <td>0.887507</td>\n",
       "    </tr>\n",
       "    <tr>\n",
       "      <td>compactness</td>\n",
       "      <td>0.607557</td>\n",
       "      <td>0.525224</td>\n",
       "      <td>1.000000</td>\n",
       "      <td>0.368664</td>\n",
       "      <td>0.755165</td>\n",
       "      <td>-0.384178</td>\n",
       "      <td>0.243071</td>\n",
       "    </tr>\n",
       "    <tr>\n",
       "      <td>length</td>\n",
       "      <td>0.952675</td>\n",
       "      <td>0.975333</td>\n",
       "      <td>0.368664</td>\n",
       "      <td>1.000000</td>\n",
       "      <td>0.869869</td>\n",
       "      <td>-0.137073</td>\n",
       "      <td>0.926179</td>\n",
       "    </tr>\n",
       "    <tr>\n",
       "      <td>width</td>\n",
       "      <td>0.973153</td>\n",
       "      <td>0.947229</td>\n",
       "      <td>0.755165</td>\n",
       "      <td>0.869869</td>\n",
       "      <td>1.000000</td>\n",
       "      <td>-0.264708</td>\n",
       "      <td>0.756668</td>\n",
       "    </tr>\n",
       "    <tr>\n",
       "      <td>asymmetry_coefficient</td>\n",
       "      <td>-0.225056</td>\n",
       "      <td>-0.197613</td>\n",
       "      <td>-0.384178</td>\n",
       "      <td>-0.137073</td>\n",
       "      <td>-0.264708</td>\n",
       "      <td>1.000000</td>\n",
       "      <td>-0.024300</td>\n",
       "    </tr>\n",
       "    <tr>\n",
       "      <td>groove_length</td>\n",
       "      <td>0.864875</td>\n",
       "      <td>0.887507</td>\n",
       "      <td>0.243071</td>\n",
       "      <td>0.926179</td>\n",
       "      <td>0.756668</td>\n",
       "      <td>-0.024300</td>\n",
       "      <td>1.000000</td>\n",
       "    </tr>\n",
       "  </tbody>\n",
       "</table>\n",
       "</div>"
      ],
      "text/plain": [
       "                           area  perimeter  compactness    length     width  \\\n",
       "area                   1.000000   0.994135     0.607557  0.952675  0.973153   \n",
       "perimeter              0.994135   1.000000     0.525224  0.975333  0.947229   \n",
       "compactness            0.607557   0.525224     1.000000  0.368664  0.755165   \n",
       "length                 0.952675   0.975333     0.368664  1.000000  0.869869   \n",
       "width                  0.973153   0.947229     0.755165  0.869869  1.000000   \n",
       "asymmetry_coefficient -0.225056  -0.197613    -0.384178 -0.137073 -0.264708   \n",
       "groove_length          0.864875   0.887507     0.243071  0.926179  0.756668   \n",
       "\n",
       "                       asymmetry_coefficient  groove_length  \n",
       "area                               -0.225056       0.864875  \n",
       "perimeter                          -0.197613       0.887507  \n",
       "compactness                        -0.384178       0.243071  \n",
       "length                             -0.137073       0.926179  \n",
       "width                              -0.264708       0.756668  \n",
       "asymmetry_coefficient               1.000000      -0.024300  \n",
       "groove_length                      -0.024300       1.000000  "
      ]
     },
     "execution_count": 17,
     "metadata": {},
     "output_type": "execute_result"
    }
   ],
   "source": [
    "data.corr()"
   ]
  },
  {
   "cell_type": "code",
   "execution_count": 18,
   "metadata": {},
   "outputs": [
    {
     "data": {
      "text/plain": [
       "<matplotlib.axes._subplots.AxesSubplot at 0x1cd6c0a4808>"
      ]
     },
     "execution_count": 18,
     "metadata": {},
     "output_type": "execute_result"
    },
    {
     "data": {
      "image/png": "[encoded data removed]",
      "text/plain": [
       "<Figure size 1152x792 with 2 Axes>"
      ]
     },
     "metadata": {
      "needs_background": "light"
     },
     "output_type": "display_data"
    }
   ],
   "source": [
    "plt.subplots(figsize=(16,11))\n",
    "sns.heatmap(data.corr(),annot=True, cmap=\"YlGnBu\")"
   ]
  },
  {
   "cell_type": "code",
   "execution_count": 19,
   "metadata": {},
   "outputs": [
    {
     "data": {
      "text/plain": [
       "<seaborn.axisgrid.PairGrid at 0x1cd6c1a9208>"
      ]
     },
     "execution_count": 19,
     "metadata": {},
     "output_type": "execute_result"
    },
    {
     "data": {
      "image/png": "[encoded data removed]",
      "text/plain": [
       "<Figure size 1260x1260 with 56 Axes>"
      ]
     },
     "metadata": {
      "needs_background": "light"
     },
     "output_type": "display_data"
    }
   ],
   "source": [
    "sns.pairplot(data)"
   ]
  },
  {
   "cell_type": "code",
   "execution_count": 20,
   "metadata": {},
   "outputs": [
    {
     "data": {
      "text/plain": [
       "Canadian wheat    14\n",
       "Rosa wheat        14\n",
       "Kama wheat        14\n",
       "Name: grain_variety, dtype: int64"
      ]
     },
     "execution_count": 20,
     "metadata": {},
     "output_type": "execute_result"
    }
   ],
   "source": [
    "data[\"grain_variety\"].value_counts()"
   ]
  },
  {
   "cell_type": "code",
   "execution_count": 21,
   "metadata": {},
   "outputs": [],
   "source": [
    "data[\"grain_variety\"].replace(\"Rosa wheat\",0,inplace=True)\n",
    "data[\"grain_variety\"].replace(\"Canadian wheat\",1,inplace=True)\n",
    "data[\"grain_variety\"].replace(\"Kama wheat\",2,inplace=True)"
   ]
  },
  {
   "cell_type": "code",
   "execution_count": 22,
   "metadata": {},
   "outputs": [
    {
     "data": {
      "text/html": [
       "<div>\n",
       "<style scoped>\n",
       "    .dataframe tbody tr th:only-of-type {\n",
       "        vertical-align: middle;\n",
       "    }\n",
       "\n",
       "    .dataframe tbody tr th {\n",
       "        vertical-align: top;\n",
       "    }\n",
       "\n",
       "    .dataframe thead th {\n",
       "        text-align: right;\n",
       "    }\n",
       "</style>\n",
       "<table border=\"1\" class=\"dataframe\">\n",
       "  <thead>\n",
       "    <tr style=\"text-align: right;\">\n",
       "      <th></th>\n",
       "      <th>area</th>\n",
       "      <th>perimeter</th>\n",
       "      <th>compactness</th>\n",
       "      <th>length</th>\n",
       "      <th>width</th>\n",
       "      <th>asymmetry_coefficient</th>\n",
       "      <th>groove_length</th>\n",
       "      <th>grain_variety</th>\n",
       "    </tr>\n",
       "  </thead>\n",
       "  <tbody>\n",
       "    <tr>\n",
       "      <td>count</td>\n",
       "      <td>42.000000</td>\n",
       "      <td>42.000000</td>\n",
       "      <td>42.000000</td>\n",
       "      <td>42.000000</td>\n",
       "      <td>42.000000</td>\n",
       "      <td>42.000000</td>\n",
       "      <td>42.000000</td>\n",
       "      <td>42.000000</td>\n",
       "    </tr>\n",
       "    <tr>\n",
       "      <td>mean</td>\n",
       "      <td>14.923333</td>\n",
       "      <td>14.582619</td>\n",
       "      <td>0.873200</td>\n",
       "      <td>5.614214</td>\n",
       "      <td>3.278429</td>\n",
       "      <td>3.707095</td>\n",
       "      <td>5.396119</td>\n",
       "      <td>1.000000</td>\n",
       "    </tr>\n",
       "    <tr>\n",
       "      <td>std</td>\n",
       "      <td>2.852972</td>\n",
       "      <td>1.289640</td>\n",
       "      <td>0.022442</td>\n",
       "      <td>0.418348</td>\n",
       "      <td>0.375864</td>\n",
       "      <td>1.521039</td>\n",
       "      <td>0.461898</td>\n",
       "      <td>0.826394</td>\n",
       "    </tr>\n",
       "    <tr>\n",
       "      <td>min</td>\n",
       "      <td>11.230000</td>\n",
       "      <td>12.630000</td>\n",
       "      <td>0.819800</td>\n",
       "      <td>4.902000</td>\n",
       "      <td>2.710000</td>\n",
       "      <td>1.018000</td>\n",
       "      <td>4.703000</td>\n",
       "      <td>0.000000</td>\n",
       "    </tr>\n",
       "    <tr>\n",
       "      <td>25%</td>\n",
       "      <td>12.445000</td>\n",
       "      <td>13.467500</td>\n",
       "      <td>0.860250</td>\n",
       "      <td>5.256750</td>\n",
       "      <td>2.927000</td>\n",
       "      <td>2.716500</td>\n",
       "      <td>5.013250</td>\n",
       "      <td>0.000000</td>\n",
       "    </tr>\n",
       "    <tr>\n",
       "      <td>50%</td>\n",
       "      <td>14.400000</td>\n",
       "      <td>14.360000</td>\n",
       "      <td>0.875300</td>\n",
       "      <td>5.547500</td>\n",
       "      <td>3.296000</td>\n",
       "      <td>3.556000</td>\n",
       "      <td>5.223500</td>\n",
       "      <td>1.000000</td>\n",
       "    </tr>\n",
       "    <tr>\n",
       "      <td>75%</td>\n",
       "      <td>17.832500</td>\n",
       "      <td>15.897500</td>\n",
       "      <td>0.885875</td>\n",
       "      <td>6.039750</td>\n",
       "      <td>3.571250</td>\n",
       "      <td>4.842250</td>\n",
       "      <td>5.878500</td>\n",
       "      <td>2.000000</td>\n",
       "    </tr>\n",
       "    <tr>\n",
       "      <td>max</td>\n",
       "      <td>19.380000</td>\n",
       "      <td>16.720000</td>\n",
       "      <td>0.918300</td>\n",
       "      <td>6.341000</td>\n",
       "      <td>3.897000</td>\n",
       "      <td>7.035000</td>\n",
       "      <td>6.238000</td>\n",
       "      <td>2.000000</td>\n",
       "    </tr>\n",
       "  </tbody>\n",
       "</table>\n",
       "</div>"
      ],
      "text/plain": [
       "            area  perimeter  compactness     length      width  \\\n",
       "count  42.000000  42.000000    42.000000  42.000000  42.000000   \n",
       "mean   14.923333  14.582619     0.873200   5.614214   3.278429   \n",
       "std     2.852972   1.289640     0.022442   0.418348   0.375864   \n",
       "min    11.230000  12.630000     0.819800   4.902000   2.710000   \n",
       "25%    12.445000  13.467500     0.860250   5.256750   2.927000   \n",
       "50%    14.400000  14.360000     0.875300   5.547500   3.296000   \n",
       "75%    17.832500  15.897500     0.885875   6.039750   3.571250   \n",
       "max    19.380000  16.720000     0.918300   6.341000   3.897000   \n",
       "\n",
       "       asymmetry_coefficient  groove_length  grain_variety  \n",
       "count              42.000000      42.000000      42.000000  \n",
       "mean                3.707095       5.396119       1.000000  \n",
       "std                 1.521039       0.461898       0.826394  \n",
       "min                 1.018000       4.703000       0.000000  \n",
       "25%                 2.716500       5.013250       0.000000  \n",
       "50%                 3.556000       5.223500       1.000000  \n",
       "75%                 4.842250       5.878500       2.000000  \n",
       "max                 7.035000       6.238000       2.000000  "
      ]
     },
     "execution_count": 22,
     "metadata": {},
     "output_type": "execute_result"
    }
   ],
   "source": [
    "data.describe()"
   ]
  },
  {
   "cell_type": "markdown",
   "metadata": {},
   "source": [
    "# LR"
   ]
  },
  {
   "cell_type": "code",
   "execution_count": 23,
   "metadata": {},
   "outputs": [],
   "source": [
    "X=data.iloc[:,[0,1,2,3,4,5,6]]"
   ]
  },
  {
   "cell_type": "code",
   "execution_count": 24,
   "metadata": {},
   "outputs": [
    {
     "data": {
      "text/html": [
       "<div>\n",
       "<style scoped>\n",
       "    .dataframe tbody tr th:only-of-type {\n",
       "        vertical-align: middle;\n",
       "    }\n",
       "\n",
       "    .dataframe tbody tr th {\n",
       "        vertical-align: top;\n",
       "    }\n",
       "\n",
       "    .dataframe thead th {\n",
       "        text-align: right;\n",
       "    }\n",
       "</style>\n",
       "<table border=\"1\" class=\"dataframe\">\n",
       "  <thead>\n",
       "    <tr style=\"text-align: right;\">\n",
       "      <th></th>\n",
       "      <th>grain_variety</th>\n",
       "    </tr>\n",
       "  </thead>\n",
       "  <tbody>\n",
       "    <tr>\n",
       "      <td>0</td>\n",
       "      <td>2</td>\n",
       "    </tr>\n",
       "    <tr>\n",
       "      <td>1</td>\n",
       "      <td>2</td>\n",
       "    </tr>\n",
       "    <tr>\n",
       "      <td>2</td>\n",
       "      <td>2</td>\n",
       "    </tr>\n",
       "    <tr>\n",
       "      <td>3</td>\n",
       "      <td>2</td>\n",
       "    </tr>\n",
       "    <tr>\n",
       "      <td>4</td>\n",
       "      <td>2</td>\n",
       "    </tr>\n",
       "    <tr>\n",
       "      <td>5</td>\n",
       "      <td>2</td>\n",
       "    </tr>\n",
       "    <tr>\n",
       "      <td>6</td>\n",
       "      <td>2</td>\n",
       "    </tr>\n",
       "    <tr>\n",
       "      <td>7</td>\n",
       "      <td>2</td>\n",
       "    </tr>\n",
       "    <tr>\n",
       "      <td>8</td>\n",
       "      <td>2</td>\n",
       "    </tr>\n",
       "    <tr>\n",
       "      <td>9</td>\n",
       "      <td>2</td>\n",
       "    </tr>\n",
       "    <tr>\n",
       "      <td>10</td>\n",
       "      <td>2</td>\n",
       "    </tr>\n",
       "    <tr>\n",
       "      <td>11</td>\n",
       "      <td>2</td>\n",
       "    </tr>\n",
       "    <tr>\n",
       "      <td>12</td>\n",
       "      <td>2</td>\n",
       "    </tr>\n",
       "    <tr>\n",
       "      <td>13</td>\n",
       "      <td>2</td>\n",
       "    </tr>\n",
       "    <tr>\n",
       "      <td>14</td>\n",
       "      <td>0</td>\n",
       "    </tr>\n",
       "    <tr>\n",
       "      <td>15</td>\n",
       "      <td>0</td>\n",
       "    </tr>\n",
       "    <tr>\n",
       "      <td>16</td>\n",
       "      <td>0</td>\n",
       "    </tr>\n",
       "    <tr>\n",
       "      <td>17</td>\n",
       "      <td>0</td>\n",
       "    </tr>\n",
       "    <tr>\n",
       "      <td>18</td>\n",
       "      <td>0</td>\n",
       "    </tr>\n",
       "    <tr>\n",
       "      <td>19</td>\n",
       "      <td>0</td>\n",
       "    </tr>\n",
       "    <tr>\n",
       "      <td>20</td>\n",
       "      <td>0</td>\n",
       "    </tr>\n",
       "    <tr>\n",
       "      <td>21</td>\n",
       "      <td>0</td>\n",
       "    </tr>\n",
       "    <tr>\n",
       "      <td>22</td>\n",
       "      <td>0</td>\n",
       "    </tr>\n",
       "    <tr>\n",
       "      <td>23</td>\n",
       "      <td>0</td>\n",
       "    </tr>\n",
       "    <tr>\n",
       "      <td>24</td>\n",
       "      <td>0</td>\n",
       "    </tr>\n",
       "    <tr>\n",
       "      <td>25</td>\n",
       "      <td>0</td>\n",
       "    </tr>\n",
       "    <tr>\n",
       "      <td>26</td>\n",
       "      <td>0</td>\n",
       "    </tr>\n",
       "    <tr>\n",
       "      <td>27</td>\n",
       "      <td>0</td>\n",
       "    </tr>\n",
       "    <tr>\n",
       "      <td>28</td>\n",
       "      <td>1</td>\n",
       "    </tr>\n",
       "    <tr>\n",
       "      <td>29</td>\n",
       "      <td>1</td>\n",
       "    </tr>\n",
       "    <tr>\n",
       "      <td>30</td>\n",
       "      <td>1</td>\n",
       "    </tr>\n",
       "    <tr>\n",
       "      <td>31</td>\n",
       "      <td>1</td>\n",
       "    </tr>\n",
       "    <tr>\n",
       "      <td>32</td>\n",
       "      <td>1</td>\n",
       "    </tr>\n",
       "    <tr>\n",
       "      <td>33</td>\n",
       "      <td>1</td>\n",
       "    </tr>\n",
       "    <tr>\n",
       "      <td>34</td>\n",
       "      <td>1</td>\n",
       "    </tr>\n",
       "    <tr>\n",
       "      <td>35</td>\n",
       "      <td>1</td>\n",
       "    </tr>\n",
       "    <tr>\n",
       "      <td>36</td>\n",
       "      <td>1</td>\n",
       "    </tr>\n",
       "    <tr>\n",
       "      <td>37</td>\n",
       "      <td>1</td>\n",
       "    </tr>\n",
       "    <tr>\n",
       "      <td>38</td>\n",
       "      <td>1</td>\n",
       "    </tr>\n",
       "    <tr>\n",
       "      <td>39</td>\n",
       "      <td>1</td>\n",
       "    </tr>\n",
       "    <tr>\n",
       "      <td>40</td>\n",
       "      <td>1</td>\n",
       "    </tr>\n",
       "    <tr>\n",
       "      <td>41</td>\n",
       "      <td>1</td>\n",
       "    </tr>\n",
       "  </tbody>\n",
       "</table>\n",
       "</div>"
      ],
      "text/plain": [
       "    grain_variety\n",
       "0               2\n",
       "1               2\n",
       "2               2\n",
       "3               2\n",
       "4               2\n",
       "5               2\n",
       "6               2\n",
       "7               2\n",
       "8               2\n",
       "9               2\n",
       "10              2\n",
       "11              2\n",
       "12              2\n",
       "13              2\n",
       "14              0\n",
       "15              0\n",
       "16              0\n",
       "17              0\n",
       "18              0\n",
       "19              0\n",
       "20              0\n",
       "21              0\n",
       "22              0\n",
       "23              0\n",
       "24              0\n",
       "25              0\n",
       "26              0\n",
       "27              0\n",
       "28              1\n",
       "29              1\n",
       "30              1\n",
       "31              1\n",
       "32              1\n",
       "33              1\n",
       "34              1\n",
       "35              1\n",
       "36              1\n",
       "37              1\n",
       "38              1\n",
       "39              1\n",
       "40              1\n",
       "41              1"
      ]
     },
     "execution_count": 24,
     "metadata": {},
     "output_type": "execute_result"
    }
   ],
   "source": [
    "Y=data.iloc[:,[7]]\n",
    "Y"
   ]
  },
  {
   "cell_type": "code",
   "execution_count": 25,
   "metadata": {},
   "outputs": [],
   "source": [
    "trainX, testX, trainY, testY = train_test_split(X, Y, test_size=0.3, random_state=2)"
   ]
  },
  {
   "cell_type": "code",
   "execution_count": 26,
   "metadata": {},
   "outputs": [],
   "source": [
    "log1=LogisticRegression()"
   ]
  },
  {
   "cell_type": "code",
   "execution_count": 27,
   "metadata": {},
   "outputs": [
    {
     "name": "stderr",
     "output_type": "stream",
     "text": [
      "C:\\Users\\mpkha\\Anaconda3\\lib\\site-packages\\sklearn\\linear_model\\logistic.py:432: FutureWarning: Default solver will be changed to 'lbfgs' in 0.22. Specify a solver to silence this warning.\n",
      "  FutureWarning)\n",
      "C:\\Users\\mpkha\\Anaconda3\\lib\\site-packages\\sklearn\\utils\\validation.py:724: DataConversionWarning: A column-vector y was passed when a 1d array was expected. Please change the shape of y to (n_samples, ), for example using ravel().\n",
      "  y = column_or_1d(y, warn=True)\n",
      "C:\\Users\\mpkha\\Anaconda3\\lib\\site-packages\\sklearn\\linear_model\\logistic.py:469: FutureWarning: Default multi_class will be changed to 'auto' in 0.22. Specify the multi_class option to silence this warning.\n",
      "  \"this warning.\", FutureWarning)\n"
     ]
    },
    {
     "data": {
      "text/plain": [
       "LogisticRegression(C=1.0, class_weight=None, dual=False, fit_intercept=True,\n",
       "                   intercept_scaling=1, l1_ratio=None, max_iter=100,\n",
       "                   multi_class='warn', n_jobs=None, penalty='l2',\n",
       "                   random_state=None, solver='warn', tol=0.0001, verbose=0,\n",
       "                   warm_start=False)"
      ]
     },
     "execution_count": 27,
     "metadata": {},
     "output_type": "execute_result"
    }
   ],
   "source": [
    "log1.fit(trainX,trainY)"
   ]
  },
  {
   "cell_type": "code",
   "execution_count": 28,
   "metadata": {},
   "outputs": [
    {
     "data": {
      "text/plain": [
       "array([[ 1.58980219, -1.25143762, -0.22618716, -0.57588207, -0.33107968,\n",
       "        -0.35921418, -0.16485468],\n",
       "       [-1.22257201,  0.5355292 ,  0.08808571,  0.31291354, -0.01456209,\n",
       "         0.76332516,  0.70597443],\n",
       "       [-0.41104708,  0.75972967,  0.16236694,  0.14147589,  0.4386126 ,\n",
       "        -0.4639186 , -1.17660758]])"
      ]
     },
     "execution_count": 28,
     "metadata": {},
     "output_type": "execute_result"
    }
   ],
   "source": [
    "log1.coef_"
   ]
  },
  {
   "cell_type": "code",
   "execution_count": 29,
   "metadata": {},
   "outputs": [
    {
     "data": {
      "text/plain": [
       "array([[0.69422556, 0.02502355, 0.28075089],\n",
       "       [0.38333157, 0.01220106, 0.60446737],\n",
       "       [0.57682624, 0.12579936, 0.2973744 ],\n",
       "       [0.32416928, 0.01268058, 0.66315014],\n",
       "       [0.19828089, 0.05901725, 0.74270185],\n",
       "       [0.00306081, 0.87597022, 0.12096898],\n",
       "       [0.23212727, 0.03838349, 0.72948925],\n",
       "       [0.00487649, 0.76368145, 0.23144206],\n",
       "       [0.7237191 , 0.00090232, 0.27537859],\n",
       "       [0.00704206, 0.66092396, 0.33203398],\n",
       "       [0.01983489, 0.72232682, 0.25783829],\n",
       "       [0.0124163 , 0.46904726, 0.51853643],\n",
       "       [0.77152998, 0.01108039, 0.21738963]])"
      ]
     },
     "execution_count": 29,
     "metadata": {},
     "output_type": "execute_result"
    }
   ],
   "source": [
    "pred01=log1.predict_proba(testX)\n",
    "pred01"
   ]
  },
  {
   "cell_type": "code",
   "execution_count": 30,
   "metadata": {},
   "outputs": [
    {
     "data": {
      "text/plain": [
       "array([2, 2, 2, 1, 2, 2, 2, 0, 2, 2, 2, 2, 2, 2, 0, 0, 0, 0, 0, 0, 0, 0,\n",
       "       0, 0, 0, 0, 0, 0, 1, 2, 1, 1, 1, 1, 1, 1, 1, 1, 1, 1, 2, 1],\n",
       "      dtype=int64)"
      ]
     },
     "execution_count": 30,
     "metadata": {},
     "output_type": "execute_result"
    }
   ],
   "source": [
    "pred02=log1.predict(X) # pedicting the values of x\n",
    "pred02"
   ]
  },
  {
   "cell_type": "code",
   "execution_count": 31,
   "metadata": {},
   "outputs": [
    {
     "data": {
      "text/html": [
       "<div>\n",
       "<style scoped>\n",
       "    .dataframe tbody tr th:only-of-type {\n",
       "        vertical-align: middle;\n",
       "    }\n",
       "\n",
       "    .dataframe tbody tr th {\n",
       "        vertical-align: top;\n",
       "    }\n",
       "\n",
       "    .dataframe thead th {\n",
       "        text-align: right;\n",
       "    }\n",
       "</style>\n",
       "<table border=\"1\" class=\"dataframe\">\n",
       "  <thead>\n",
       "    <tr style=\"text-align: right;\">\n",
       "      <th></th>\n",
       "      <th>area</th>\n",
       "      <th>perimeter</th>\n",
       "      <th>compactness</th>\n",
       "      <th>length</th>\n",
       "      <th>width</th>\n",
       "      <th>asymmetry_coefficient</th>\n",
       "      <th>groove_length</th>\n",
       "      <th>grain_variety</th>\n",
       "      <th>predict01</th>\n",
       "    </tr>\n",
       "  </thead>\n",
       "  <tbody>\n",
       "    <tr>\n",
       "      <td>0</td>\n",
       "      <td>14.88</td>\n",
       "      <td>14.57</td>\n",
       "      <td>0.8811</td>\n",
       "      <td>5.554</td>\n",
       "      <td>3.333</td>\n",
       "      <td>1.018</td>\n",
       "      <td>4.956</td>\n",
       "      <td>2</td>\n",
       "      <td>2</td>\n",
       "    </tr>\n",
       "    <tr>\n",
       "      <td>1</td>\n",
       "      <td>14.69</td>\n",
       "      <td>14.49</td>\n",
       "      <td>0.8799</td>\n",
       "      <td>5.563</td>\n",
       "      <td>3.259</td>\n",
       "      <td>3.586</td>\n",
       "      <td>5.219</td>\n",
       "      <td>2</td>\n",
       "      <td>2</td>\n",
       "    </tr>\n",
       "    <tr>\n",
       "      <td>2</td>\n",
       "      <td>14.03</td>\n",
       "      <td>14.16</td>\n",
       "      <td>0.8796</td>\n",
       "      <td>5.438</td>\n",
       "      <td>3.201</td>\n",
       "      <td>1.717</td>\n",
       "      <td>5.001</td>\n",
       "      <td>2</td>\n",
       "      <td>2</td>\n",
       "    </tr>\n",
       "    <tr>\n",
       "      <td>3</td>\n",
       "      <td>13.99</td>\n",
       "      <td>13.83</td>\n",
       "      <td>0.9183</td>\n",
       "      <td>5.119</td>\n",
       "      <td>3.383</td>\n",
       "      <td>5.234</td>\n",
       "      <td>4.781</td>\n",
       "      <td>2</td>\n",
       "      <td>1</td>\n",
       "    </tr>\n",
       "    <tr>\n",
       "      <td>4</td>\n",
       "      <td>14.11</td>\n",
       "      <td>14.26</td>\n",
       "      <td>0.8722</td>\n",
       "      <td>5.520</td>\n",
       "      <td>3.168</td>\n",
       "      <td>2.688</td>\n",
       "      <td>5.219</td>\n",
       "      <td>2</td>\n",
       "      <td>2</td>\n",
       "    </tr>\n",
       "    <tr>\n",
       "      <td>5</td>\n",
       "      <td>13.02</td>\n",
       "      <td>13.76</td>\n",
       "      <td>0.8641</td>\n",
       "      <td>5.395</td>\n",
       "      <td>3.026</td>\n",
       "      <td>3.373</td>\n",
       "      <td>4.825</td>\n",
       "      <td>2</td>\n",
       "      <td>2</td>\n",
       "    </tr>\n",
       "    <tr>\n",
       "      <td>6</td>\n",
       "      <td>15.49</td>\n",
       "      <td>14.94</td>\n",
       "      <td>0.8724</td>\n",
       "      <td>5.757</td>\n",
       "      <td>3.371</td>\n",
       "      <td>3.412</td>\n",
       "      <td>5.228</td>\n",
       "      <td>2</td>\n",
       "      <td>2</td>\n",
       "    </tr>\n",
       "    <tr>\n",
       "      <td>7</td>\n",
       "      <td>16.20</td>\n",
       "      <td>15.27</td>\n",
       "      <td>0.8734</td>\n",
       "      <td>5.826</td>\n",
       "      <td>3.464</td>\n",
       "      <td>2.823</td>\n",
       "      <td>5.527</td>\n",
       "      <td>2</td>\n",
       "      <td>0</td>\n",
       "    </tr>\n",
       "    <tr>\n",
       "      <td>8</td>\n",
       "      <td>13.50</td>\n",
       "      <td>13.85</td>\n",
       "      <td>0.8852</td>\n",
       "      <td>5.351</td>\n",
       "      <td>3.158</td>\n",
       "      <td>2.249</td>\n",
       "      <td>5.176</td>\n",
       "      <td>2</td>\n",
       "      <td>2</td>\n",
       "    </tr>\n",
       "    <tr>\n",
       "      <td>9</td>\n",
       "      <td>15.36</td>\n",
       "      <td>14.76</td>\n",
       "      <td>0.8861</td>\n",
       "      <td>5.701</td>\n",
       "      <td>3.393</td>\n",
       "      <td>1.367</td>\n",
       "      <td>5.132</td>\n",
       "      <td>2</td>\n",
       "      <td>2</td>\n",
       "    </tr>\n",
       "    <tr>\n",
       "      <td>10</td>\n",
       "      <td>15.78</td>\n",
       "      <td>14.91</td>\n",
       "      <td>0.8923</td>\n",
       "      <td>5.674</td>\n",
       "      <td>3.434</td>\n",
       "      <td>5.593</td>\n",
       "      <td>5.136</td>\n",
       "      <td>2</td>\n",
       "      <td>2</td>\n",
       "    </tr>\n",
       "    <tr>\n",
       "      <td>11</td>\n",
       "      <td>14.46</td>\n",
       "      <td>14.35</td>\n",
       "      <td>0.8818</td>\n",
       "      <td>5.388</td>\n",
       "      <td>3.377</td>\n",
       "      <td>2.802</td>\n",
       "      <td>5.044</td>\n",
       "      <td>2</td>\n",
       "      <td>2</td>\n",
       "    </tr>\n",
       "    <tr>\n",
       "      <td>12</td>\n",
       "      <td>11.23</td>\n",
       "      <td>12.63</td>\n",
       "      <td>0.8840</td>\n",
       "      <td>4.902</td>\n",
       "      <td>2.879</td>\n",
       "      <td>2.269</td>\n",
       "      <td>4.703</td>\n",
       "      <td>2</td>\n",
       "      <td>2</td>\n",
       "    </tr>\n",
       "    <tr>\n",
       "      <td>13</td>\n",
       "      <td>14.34</td>\n",
       "      <td>14.37</td>\n",
       "      <td>0.8726</td>\n",
       "      <td>5.630</td>\n",
       "      <td>3.190</td>\n",
       "      <td>1.313</td>\n",
       "      <td>5.150</td>\n",
       "      <td>2</td>\n",
       "      <td>2</td>\n",
       "    </tr>\n",
       "    <tr>\n",
       "      <td>14</td>\n",
       "      <td>16.84</td>\n",
       "      <td>15.67</td>\n",
       "      <td>0.8623</td>\n",
       "      <td>5.998</td>\n",
       "      <td>3.484</td>\n",
       "      <td>4.675</td>\n",
       "      <td>5.877</td>\n",
       "      <td>0</td>\n",
       "      <td>0</td>\n",
       "    </tr>\n",
       "    <tr>\n",
       "      <td>15</td>\n",
       "      <td>17.32</td>\n",
       "      <td>15.91</td>\n",
       "      <td>0.8599</td>\n",
       "      <td>6.064</td>\n",
       "      <td>3.403</td>\n",
       "      <td>3.824</td>\n",
       "      <td>5.922</td>\n",
       "      <td>0</td>\n",
       "      <td>0</td>\n",
       "    </tr>\n",
       "    <tr>\n",
       "      <td>16</td>\n",
       "      <td>18.72</td>\n",
       "      <td>16.19</td>\n",
       "      <td>0.8977</td>\n",
       "      <td>6.006</td>\n",
       "      <td>3.857</td>\n",
       "      <td>5.324</td>\n",
       "      <td>5.879</td>\n",
       "      <td>0</td>\n",
       "      <td>0</td>\n",
       "    </tr>\n",
       "    <tr>\n",
       "      <td>17</td>\n",
       "      <td>18.88</td>\n",
       "      <td>16.26</td>\n",
       "      <td>0.8969</td>\n",
       "      <td>6.084</td>\n",
       "      <td>3.764</td>\n",
       "      <td>1.649</td>\n",
       "      <td>6.109</td>\n",
       "      <td>0</td>\n",
       "      <td>0</td>\n",
       "    </tr>\n",
       "    <tr>\n",
       "      <td>18</td>\n",
       "      <td>18.76</td>\n",
       "      <td>16.20</td>\n",
       "      <td>0.8984</td>\n",
       "      <td>6.172</td>\n",
       "      <td>3.796</td>\n",
       "      <td>3.120</td>\n",
       "      <td>6.053</td>\n",
       "      <td>0</td>\n",
       "      <td>0</td>\n",
       "    </tr>\n",
       "    <tr>\n",
       "      <td>19</td>\n",
       "      <td>19.31</td>\n",
       "      <td>16.59</td>\n",
       "      <td>0.8815</td>\n",
       "      <td>6.341</td>\n",
       "      <td>3.810</td>\n",
       "      <td>3.477</td>\n",
       "      <td>6.238</td>\n",
       "      <td>0</td>\n",
       "      <td>0</td>\n",
       "    </tr>\n",
       "    <tr>\n",
       "      <td>20</td>\n",
       "      <td>17.99</td>\n",
       "      <td>15.86</td>\n",
       "      <td>0.8992</td>\n",
       "      <td>5.890</td>\n",
       "      <td>3.694</td>\n",
       "      <td>2.068</td>\n",
       "      <td>5.837</td>\n",
       "      <td>0</td>\n",
       "      <td>0</td>\n",
       "    </tr>\n",
       "    <tr>\n",
       "      <td>21</td>\n",
       "      <td>18.85</td>\n",
       "      <td>16.17</td>\n",
       "      <td>0.9056</td>\n",
       "      <td>6.152</td>\n",
       "      <td>3.806</td>\n",
       "      <td>2.843</td>\n",
       "      <td>6.200</td>\n",
       "      <td>0</td>\n",
       "      <td>0</td>\n",
       "    </tr>\n",
       "    <tr>\n",
       "      <td>22</td>\n",
       "      <td>19.38</td>\n",
       "      <td>16.72</td>\n",
       "      <td>0.8716</td>\n",
       "      <td>6.303</td>\n",
       "      <td>3.791</td>\n",
       "      <td>3.678</td>\n",
       "      <td>5.965</td>\n",
       "      <td>0</td>\n",
       "      <td>0</td>\n",
       "    </tr>\n",
       "    <tr>\n",
       "      <td>23</td>\n",
       "      <td>18.96</td>\n",
       "      <td>16.20</td>\n",
       "      <td>0.9077</td>\n",
       "      <td>6.051</td>\n",
       "      <td>3.897</td>\n",
       "      <td>4.334</td>\n",
       "      <td>5.750</td>\n",
       "      <td>0</td>\n",
       "      <td>0</td>\n",
       "    </tr>\n",
       "    <tr>\n",
       "      <td>24</td>\n",
       "      <td>18.14</td>\n",
       "      <td>16.12</td>\n",
       "      <td>0.8772</td>\n",
       "      <td>6.059</td>\n",
       "      <td>3.563</td>\n",
       "      <td>3.619</td>\n",
       "      <td>6.011</td>\n",
       "      <td>0</td>\n",
       "      <td>0</td>\n",
       "    </tr>\n",
       "    <tr>\n",
       "      <td>25</td>\n",
       "      <td>18.65</td>\n",
       "      <td>16.41</td>\n",
       "      <td>0.8698</td>\n",
       "      <td>6.285</td>\n",
       "      <td>3.594</td>\n",
       "      <td>4.391</td>\n",
       "      <td>6.102</td>\n",
       "      <td>0</td>\n",
       "      <td>0</td>\n",
       "    </tr>\n",
       "    <tr>\n",
       "      <td>26</td>\n",
       "      <td>18.94</td>\n",
       "      <td>16.32</td>\n",
       "      <td>0.8942</td>\n",
       "      <td>6.144</td>\n",
       "      <td>3.825</td>\n",
       "      <td>2.908</td>\n",
       "      <td>5.949</td>\n",
       "      <td>0</td>\n",
       "      <td>0</td>\n",
       "    </tr>\n",
       "    <tr>\n",
       "      <td>27</td>\n",
       "      <td>17.36</td>\n",
       "      <td>15.76</td>\n",
       "      <td>0.8785</td>\n",
       "      <td>6.145</td>\n",
       "      <td>3.574</td>\n",
       "      <td>3.526</td>\n",
       "      <td>5.971</td>\n",
       "      <td>0</td>\n",
       "      <td>0</td>\n",
       "    </tr>\n",
       "    <tr>\n",
       "      <td>28</td>\n",
       "      <td>13.32</td>\n",
       "      <td>13.94</td>\n",
       "      <td>0.8613</td>\n",
       "      <td>5.541</td>\n",
       "      <td>3.073</td>\n",
       "      <td>7.035</td>\n",
       "      <td>5.440</td>\n",
       "      <td>1</td>\n",
       "      <td>1</td>\n",
       "    </tr>\n",
       "    <tr>\n",
       "      <td>29</td>\n",
       "      <td>11.43</td>\n",
       "      <td>13.13</td>\n",
       "      <td>0.8335</td>\n",
       "      <td>5.176</td>\n",
       "      <td>2.719</td>\n",
       "      <td>2.221</td>\n",
       "      <td>5.132</td>\n",
       "      <td>1</td>\n",
       "      <td>2</td>\n",
       "    </tr>\n",
       "    <tr>\n",
       "      <td>30</td>\n",
       "      <td>12.01</td>\n",
       "      <td>13.52</td>\n",
       "      <td>0.8249</td>\n",
       "      <td>5.405</td>\n",
       "      <td>2.776</td>\n",
       "      <td>6.992</td>\n",
       "      <td>5.270</td>\n",
       "      <td>1</td>\n",
       "      <td>1</td>\n",
       "    </tr>\n",
       "    <tr>\n",
       "      <td>31</td>\n",
       "      <td>11.34</td>\n",
       "      <td>12.87</td>\n",
       "      <td>0.8596</td>\n",
       "      <td>5.053</td>\n",
       "      <td>2.849</td>\n",
       "      <td>3.347</td>\n",
       "      <td>5.003</td>\n",
       "      <td>1</td>\n",
       "      <td>1</td>\n",
       "    </tr>\n",
       "    <tr>\n",
       "      <td>32</td>\n",
       "      <td>12.02</td>\n",
       "      <td>13.33</td>\n",
       "      <td>0.8503</td>\n",
       "      <td>5.350</td>\n",
       "      <td>2.810</td>\n",
       "      <td>4.271</td>\n",
       "      <td>5.308</td>\n",
       "      <td>1</td>\n",
       "      <td>1</td>\n",
       "    </tr>\n",
       "    <tr>\n",
       "      <td>33</td>\n",
       "      <td>12.44</td>\n",
       "      <td>13.59</td>\n",
       "      <td>0.8462</td>\n",
       "      <td>5.319</td>\n",
       "      <td>2.897</td>\n",
       "      <td>4.924</td>\n",
       "      <td>5.270</td>\n",
       "      <td>1</td>\n",
       "      <td>1</td>\n",
       "    </tr>\n",
       "    <tr>\n",
       "      <td>34</td>\n",
       "      <td>11.55</td>\n",
       "      <td>13.10</td>\n",
       "      <td>0.8455</td>\n",
       "      <td>5.167</td>\n",
       "      <td>2.845</td>\n",
       "      <td>6.715</td>\n",
       "      <td>4.956</td>\n",
       "      <td>1</td>\n",
       "      <td>1</td>\n",
       "    </tr>\n",
       "    <tr>\n",
       "      <td>35</td>\n",
       "      <td>11.26</td>\n",
       "      <td>13.01</td>\n",
       "      <td>0.8355</td>\n",
       "      <td>5.186</td>\n",
       "      <td>2.710</td>\n",
       "      <td>5.335</td>\n",
       "      <td>5.092</td>\n",
       "      <td>1</td>\n",
       "      <td>1</td>\n",
       "    </tr>\n",
       "    <tr>\n",
       "      <td>36</td>\n",
       "      <td>12.46</td>\n",
       "      <td>13.41</td>\n",
       "      <td>0.8706</td>\n",
       "      <td>5.236</td>\n",
       "      <td>3.017</td>\n",
       "      <td>4.987</td>\n",
       "      <td>5.147</td>\n",
       "      <td>1</td>\n",
       "      <td>1</td>\n",
       "    </tr>\n",
       "    <tr>\n",
       "      <td>37</td>\n",
       "      <td>11.81</td>\n",
       "      <td>13.45</td>\n",
       "      <td>0.8198</td>\n",
       "      <td>5.413</td>\n",
       "      <td>2.716</td>\n",
       "      <td>4.898</td>\n",
       "      <td>5.352</td>\n",
       "      <td>1</td>\n",
       "      <td>1</td>\n",
       "    </tr>\n",
       "    <tr>\n",
       "      <td>38</td>\n",
       "      <td>11.27</td>\n",
       "      <td>12.86</td>\n",
       "      <td>0.8563</td>\n",
       "      <td>5.091</td>\n",
       "      <td>2.804</td>\n",
       "      <td>3.985</td>\n",
       "      <td>5.001</td>\n",
       "      <td>1</td>\n",
       "      <td>1</td>\n",
       "    </tr>\n",
       "    <tr>\n",
       "      <td>39</td>\n",
       "      <td>12.79</td>\n",
       "      <td>13.53</td>\n",
       "      <td>0.8786</td>\n",
       "      <td>5.224</td>\n",
       "      <td>3.054</td>\n",
       "      <td>5.483</td>\n",
       "      <td>4.958</td>\n",
       "      <td>1</td>\n",
       "      <td>1</td>\n",
       "    </tr>\n",
       "    <tr>\n",
       "      <td>40</td>\n",
       "      <td>12.67</td>\n",
       "      <td>13.32</td>\n",
       "      <td>0.8977</td>\n",
       "      <td>4.984</td>\n",
       "      <td>3.135</td>\n",
       "      <td>2.300</td>\n",
       "      <td>4.745</td>\n",
       "      <td>1</td>\n",
       "      <td>2</td>\n",
       "    </tr>\n",
       "    <tr>\n",
       "      <td>41</td>\n",
       "      <td>11.23</td>\n",
       "      <td>12.88</td>\n",
       "      <td>0.8511</td>\n",
       "      <td>5.140</td>\n",
       "      <td>2.795</td>\n",
       "      <td>4.325</td>\n",
       "      <td>5.003</td>\n",
       "      <td>1</td>\n",
       "      <td>1</td>\n",
       "    </tr>\n",
       "  </tbody>\n",
       "</table>\n",
       "</div>"
      ],
      "text/plain": [
       "     area  perimeter  compactness  length  width  asymmetry_coefficient  \\\n",
       "0   14.88      14.57       0.8811   5.554  3.333                  1.018   \n",
       "1   14.69      14.49       0.8799   5.563  3.259                  3.586   \n",
       "2   14.03      14.16       0.8796   5.438  3.201                  1.717   \n",
       "3   13.99      13.83       0.9183   5.119  3.383                  5.234   \n",
       "4   14.11      14.26       0.8722   5.520  3.168                  2.688   \n",
       "5   13.02      13.76       0.8641   5.395  3.026                  3.373   \n",
       "6   15.49      14.94       0.8724   5.757  3.371                  3.412   \n",
       "7   16.20      15.27       0.8734   5.826  3.464                  2.823   \n",
       "8   13.50      13.85       0.8852   5.351  3.158                  2.249   \n",
       "9   15.36      14.76       0.8861   5.701  3.393                  1.367   \n",
       "10  15.78      14.91       0.8923   5.674  3.434                  5.593   \n",
       "11  14.46      14.35       0.8818   5.388  3.377                  2.802   \n",
       "12  11.23      12.63       0.8840   4.902  2.879                  2.269   \n",
       "13  14.34      14.37       0.8726   5.630  3.190                  1.313   \n",
       "14  16.84      15.67       0.8623   5.998  3.484                  4.675   \n",
       "15  17.32      15.91       0.8599   6.064  3.403                  3.824   \n",
       "16  18.72      16.19       0.8977   6.006  3.857                  5.324   \n",
       "17  18.88      16.26       0.8969   6.084  3.764                  1.649   \n",
       "18  18.76      16.20       0.8984   6.172  3.796                  3.120   \n",
       "19  19.31      16.59       0.8815   6.341  3.810                  3.477   \n",
       "20  17.99      15.86       0.8992   5.890  3.694                  2.068   \n",
       "21  18.85      16.17       0.9056   6.152  3.806                  2.843   \n",
       "22  19.38      16.72       0.8716   6.303  3.791                  3.678   \n",
       "23  18.96      16.20       0.9077   6.051  3.897                  4.334   \n",
       "24  18.14      16.12       0.8772   6.059  3.563                  3.619   \n",
       "25  18.65      16.41       0.8698   6.285  3.594                  4.391   \n",
       "26  18.94      16.32       0.8942   6.144  3.825                  2.908   \n",
       "27  17.36      15.76       0.8785   6.145  3.574                  3.526   \n",
       "28  13.32      13.94       0.8613   5.541  3.073                  7.035   \n",
       "29  11.43      13.13       0.8335   5.176  2.719                  2.221   \n",
       "30  12.01      13.52       0.8249   5.405  2.776                  6.992   \n",
       "31  11.34      12.87       0.8596   5.053  2.849                  3.347   \n",
       "32  12.02      13.33       0.8503   5.350  2.810                  4.271   \n",
       "33  12.44      13.59       0.8462   5.319  2.897                  4.924   \n",
       "34  11.55      13.10       0.8455   5.167  2.845                  6.715   \n",
       "35  11.26      13.01       0.8355   5.186  2.710                  5.335   \n",
       "36  12.46      13.41       0.8706   5.236  3.017                  4.987   \n",
       "37  11.81      13.45       0.8198   5.413  2.716                  4.898   \n",
       "38  11.27      12.86       0.8563   5.091  2.804                  3.985   \n",
       "39  12.79      13.53       0.8786   5.224  3.054                  5.483   \n",
       "40  12.67      13.32       0.8977   4.984  3.135                  2.300   \n",
       "41  11.23      12.88       0.8511   5.140  2.795                  4.325   \n",
       "\n",
       "    groove_length  grain_variety  predict01  \n",
       "0           4.956              2          2  \n",
       "1           5.219              2          2  \n",
       "2           5.001              2          2  \n",
       "3           4.781              2          1  \n",
       "4           5.219              2          2  \n",
       "5           4.825              2          2  \n",
       "6           5.228              2          2  \n",
       "7           5.527              2          0  \n",
       "8           5.176              2          2  \n",
       "9           5.132              2          2  \n",
       "10          5.136              2          2  \n",
       "11          5.044              2          2  \n",
       "12          4.703              2          2  \n",
       "13          5.150              2          2  \n",
       "14          5.877              0          0  \n",
       "15          5.922              0          0  \n",
       "16          5.879              0          0  \n",
       "17          6.109              0          0  \n",
       "18          6.053              0          0  \n",
       "19          6.238              0          0  \n",
       "20          5.837              0          0  \n",
       "21          6.200              0          0  \n",
       "22          5.965              0          0  \n",
       "23          5.750              0          0  \n",
       "24          6.011              0          0  \n",
       "25          6.102              0          0  \n",
       "26          5.949              0          0  \n",
       "27          5.971              0          0  \n",
       "28          5.440              1          1  \n",
       "29          5.132              1          2  \n",
       "30          5.270              1          1  \n",
       "31          5.003              1          1  \n",
       "32          5.308              1          1  \n",
       "33          5.270              1          1  \n",
       "34          4.956              1          1  \n",
       "35          5.092              1          1  \n",
       "36          5.147              1          1  \n",
       "37          5.352              1          1  \n",
       "38          5.001              1          1  \n",
       "39          4.958              1          1  \n",
       "40          4.745              1          2  \n",
       "41          5.003              1          1  "
      ]
     },
     "execution_count": 31,
     "metadata": {},
     "output_type": "execute_result"
    }
   ],
   "source": [
    "data[\"predict01\"]=pred02\n",
    "data"
   ]
  },
  {
   "cell_type": "code",
   "execution_count": 32,
   "metadata": {},
   "outputs": [
    {
     "data": {
      "text/plain": [
       "array([[14,  0,  0],\n",
       "       [ 0, 12,  2],\n",
       "       [ 1,  1, 12]], dtype=int64)"
      ]
     },
     "execution_count": 32,
     "metadata": {},
     "output_type": "execute_result"
    }
   ],
   "source": [
    "CM=confusion_matrix(Y,pred02)\n",
    "CM"
   ]
  },
  {
   "cell_type": "code",
   "execution_count": 33,
   "metadata": {},
   "outputs": [
    {
     "data": {
      "text/plain": [
       "0.9047619047619048"
      ]
     },
     "execution_count": 33,
     "metadata": {},
     "output_type": "execute_result"
    }
   ],
   "source": [
    "acc_log1=accuracy_score(pred02,Y)\n",
    "acc_log1"
   ]
  },
  {
   "cell_type": "markdown",
   "metadata": {},
   "source": [
    "# NB"
   ]
  },
  {
   "cell_type": "code",
   "execution_count": 34,
   "metadata": {},
   "outputs": [
    {
     "name": "stdout",
     "output_type": "stream",
     "text": [
      "Index(['area', 'perimeter', 'compactness', 'length', 'width',\n",
      "       'asymmetry_coefficient', 'groove_length'],\n",
      "      dtype='object') \n",
      "\n",
      " grain_variety\n"
     ]
    }
   ],
   "source": [
    "features = data.columns[0:7]\n",
    "cols= data.columns\n",
    "labels = cols[7]\n",
    "print(features, \"\\n\\n\", labels)"
   ]
  },
  {
   "cell_type": "code",
   "execution_count": 35,
   "metadata": {},
   "outputs": [],
   "source": [
    "for feature in features:\n",
    "    data[feature] = (data[features]- data[features].mean()) / data[features].std()"
   ]
  },
  {
   "cell_type": "code",
   "execution_count": 36,
   "metadata": {},
   "outputs": [
    {
     "data": {
      "text/html": [
       "<div>\n",
       "<style scoped>\n",
       "    .dataframe tbody tr th:only-of-type {\n",
       "        vertical-align: middle;\n",
       "    }\n",
       "\n",
       "    .dataframe tbody tr th {\n",
       "        vertical-align: top;\n",
       "    }\n",
       "\n",
       "    .dataframe thead th {\n",
       "        text-align: right;\n",
       "    }\n",
       "</style>\n",
       "<table border=\"1\" class=\"dataframe\">\n",
       "  <thead>\n",
       "    <tr style=\"text-align: right;\">\n",
       "      <th></th>\n",
       "      <th>area</th>\n",
       "      <th>perimeter</th>\n",
       "      <th>compactness</th>\n",
       "      <th>length</th>\n",
       "      <th>width</th>\n",
       "      <th>asymmetry_coefficient</th>\n",
       "      <th>groove_length</th>\n",
       "      <th>grain_variety</th>\n",
       "      <th>predict01</th>\n",
       "    </tr>\n",
       "  </thead>\n",
       "  <tbody>\n",
       "    <tr>\n",
       "      <td>0</td>\n",
       "      <td>-0.015189</td>\n",
       "      <td>-0.015189</td>\n",
       "      <td>-0.015189</td>\n",
       "      <td>-0.015189</td>\n",
       "      <td>-0.015189</td>\n",
       "      <td>-0.015189</td>\n",
       "      <td>-0.015189</td>\n",
       "      <td>2</td>\n",
       "      <td>2</td>\n",
       "    </tr>\n",
       "    <tr>\n",
       "      <td>1</td>\n",
       "      <td>-0.081786</td>\n",
       "      <td>-0.081786</td>\n",
       "      <td>-0.081786</td>\n",
       "      <td>-0.081786</td>\n",
       "      <td>-0.081786</td>\n",
       "      <td>-0.081786</td>\n",
       "      <td>-0.081786</td>\n",
       "      <td>2</td>\n",
       "      <td>2</td>\n",
       "    </tr>\n",
       "    <tr>\n",
       "      <td>2</td>\n",
       "      <td>-0.313124</td>\n",
       "      <td>-0.313124</td>\n",
       "      <td>-0.313124</td>\n",
       "      <td>-0.313124</td>\n",
       "      <td>-0.313124</td>\n",
       "      <td>-0.313124</td>\n",
       "      <td>-0.313124</td>\n",
       "      <td>2</td>\n",
       "      <td>2</td>\n",
       "    </tr>\n",
       "    <tr>\n",
       "      <td>3</td>\n",
       "      <td>-0.327144</td>\n",
       "      <td>-0.327144</td>\n",
       "      <td>-0.327144</td>\n",
       "      <td>-0.327144</td>\n",
       "      <td>-0.327144</td>\n",
       "      <td>-0.327144</td>\n",
       "      <td>-0.327144</td>\n",
       "      <td>2</td>\n",
       "      <td>1</td>\n",
       "    </tr>\n",
       "    <tr>\n",
       "      <td>4</td>\n",
       "      <td>-0.285083</td>\n",
       "      <td>-0.285083</td>\n",
       "      <td>-0.285083</td>\n",
       "      <td>-0.285083</td>\n",
       "      <td>-0.285083</td>\n",
       "      <td>-0.285083</td>\n",
       "      <td>-0.285083</td>\n",
       "      <td>2</td>\n",
       "      <td>2</td>\n",
       "    </tr>\n",
       "    <tr>\n",
       "      <td>5</td>\n",
       "      <td>-0.667141</td>\n",
       "      <td>-0.667141</td>\n",
       "      <td>-0.667141</td>\n",
       "      <td>-0.667141</td>\n",
       "      <td>-0.667141</td>\n",
       "      <td>-0.667141</td>\n",
       "      <td>-0.667141</td>\n",
       "      <td>2</td>\n",
       "      <td>2</td>\n",
       "    </tr>\n",
       "    <tr>\n",
       "      <td>6</td>\n",
       "      <td>0.198623</td>\n",
       "      <td>0.198623</td>\n",
       "      <td>0.198623</td>\n",
       "      <td>0.198623</td>\n",
       "      <td>0.198623</td>\n",
       "      <td>0.198623</td>\n",
       "      <td>0.198623</td>\n",
       "      <td>2</td>\n",
       "      <td>2</td>\n",
       "    </tr>\n",
       "    <tr>\n",
       "      <td>7</td>\n",
       "      <td>0.447487</td>\n",
       "      <td>0.447487</td>\n",
       "      <td>0.447487</td>\n",
       "      <td>0.447487</td>\n",
       "      <td>0.447487</td>\n",
       "      <td>0.447487</td>\n",
       "      <td>0.447487</td>\n",
       "      <td>2</td>\n",
       "      <td>0</td>\n",
       "    </tr>\n",
       "    <tr>\n",
       "      <td>8</td>\n",
       "      <td>-0.498895</td>\n",
       "      <td>-0.498895</td>\n",
       "      <td>-0.498895</td>\n",
       "      <td>-0.498895</td>\n",
       "      <td>-0.498895</td>\n",
       "      <td>-0.498895</td>\n",
       "      <td>-0.498895</td>\n",
       "      <td>2</td>\n",
       "      <td>2</td>\n",
       "    </tr>\n",
       "    <tr>\n",
       "      <td>9</td>\n",
       "      <td>0.153057</td>\n",
       "      <td>0.153057</td>\n",
       "      <td>0.153057</td>\n",
       "      <td>0.153057</td>\n",
       "      <td>0.153057</td>\n",
       "      <td>0.153057</td>\n",
       "      <td>0.153057</td>\n",
       "      <td>2</td>\n",
       "      <td>2</td>\n",
       "    </tr>\n",
       "  </tbody>\n",
       "</table>\n",
       "</div>"
      ],
      "text/plain": [
       "       area  perimeter  compactness    length     width  \\\n",
       "0 -0.015189  -0.015189    -0.015189 -0.015189 -0.015189   \n",
       "1 -0.081786  -0.081786    -0.081786 -0.081786 -0.081786   \n",
       "2 -0.313124  -0.313124    -0.313124 -0.313124 -0.313124   \n",
       "3 -0.327144  -0.327144    -0.327144 -0.327144 -0.327144   \n",
       "4 -0.285083  -0.285083    -0.285083 -0.285083 -0.285083   \n",
       "5 -0.667141  -0.667141    -0.667141 -0.667141 -0.667141   \n",
       "6  0.198623   0.198623     0.198623  0.198623  0.198623   \n",
       "7  0.447487   0.447487     0.447487  0.447487  0.447487   \n",
       "8 -0.498895  -0.498895    -0.498895 -0.498895 -0.498895   \n",
       "9  0.153057   0.153057     0.153057  0.153057  0.153057   \n",
       "\n",
       "   asymmetry_coefficient  groove_length  grain_variety  predict01  \n",
       "0              -0.015189      -0.015189              2          2  \n",
       "1              -0.081786      -0.081786              2          2  \n",
       "2              -0.313124      -0.313124              2          2  \n",
       "3              -0.327144      -0.327144              2          1  \n",
       "4              -0.285083      -0.285083              2          2  \n",
       "5              -0.667141      -0.667141              2          2  \n",
       "6               0.198623       0.198623              2          2  \n",
       "7               0.447487       0.447487              2          0  \n",
       "8              -0.498895      -0.498895              2          2  \n",
       "9               0.153057       0.153057              2          2  "
      ]
     },
     "execution_count": 36,
     "metadata": {},
     "output_type": "execute_result"
    }
   ],
   "source": [
    "data.head(10)"
   ]
  },
  {
   "cell_type": "code",
   "execution_count": 37,
   "metadata": {},
   "outputs": [],
   "source": [
    "#splitting the data\n",
    "X_train,X_test,Y_train,Y_test= train_test_split(X,Y,test_size=0.3)"
   ]
  },
  {
   "cell_type": "code",
   "execution_count": 38,
   "metadata": {},
   "outputs": [
    {
     "name": "stderr",
     "output_type": "stream",
     "text": [
      "C:\\Users\\mpkha\\Anaconda3\\lib\\site-packages\\sklearn\\utils\\validation.py:724: DataConversionWarning: A column-vector y was passed when a 1d array was expected. Please change the shape of y to (n_samples, ), for example using ravel().\n",
      "  y = column_or_1d(y, warn=True)\n"
     ]
    },
    {
     "data": {
      "text/plain": [
       "GaussianNB(priors=None, var_smoothing=1e-09)"
      ]
     },
     "execution_count": 38,
     "metadata": {},
     "output_type": "execute_result"
    }
   ],
   "source": [
    "#fitting the model\n",
    "model01= GaussianNB()\n",
    "model01.fit(X_train,Y_train)"
   ]
  },
  {
   "cell_type": "code",
   "execution_count": 39,
   "metadata": {},
   "outputs": [
    {
     "data": {
      "text/plain": [
       "array([1, 0, 0, 0, 2, 2, 1, 0, 2, 0, 1, 1, 2, 0, 2, 0, 0, 1, 2, 2, 2, 1,\n",
       "       2, 0, 1, 2, 1, 0, 1], dtype=int64)"
      ]
     },
     "execution_count": 39,
     "metadata": {},
     "output_type": "execute_result"
    }
   ],
   "source": [
    "pred01=model01.predict(X_train)\n",
    "pred01"
   ]
  },
  {
   "cell_type": "code",
   "execution_count": 40,
   "metadata": {},
   "outputs": [
    {
     "name": "stdout",
     "output_type": "stream",
     "text": [
      "Accuracy=  0.9655172413793104\n"
     ]
    }
   ],
   "source": [
    "#calculating the accuracy of the  training model\n",
    "print(\"Accuracy= \",accuracy_score(pred01,Y_train))"
   ]
  },
  {
   "cell_type": "code",
   "execution_count": 41,
   "metadata": {},
   "outputs": [
    {
     "data": {
      "text/plain": [
       "array([2, 2, 1, 0, 1, 0, 1, 2, 1, 1, 1, 0, 0], dtype=int64)"
      ]
     },
     "execution_count": 41,
     "metadata": {},
     "output_type": "execute_result"
    }
   ],
   "source": [
    "pred02=model01.predict(X_test)\n",
    "pred02"
   ]
  },
  {
   "cell_type": "code",
   "execution_count": 42,
   "metadata": {},
   "outputs": [
    {
     "name": "stdout",
     "output_type": "stream",
     "text": [
      "Accuracy=  0.8461538461538461\n"
     ]
    }
   ],
   "source": [
    "#printing accuracy of the testing model\n",
    "print(\"Accuracy= \",accuracy_score(pred02,Y_test))"
   ]
  },
  {
   "cell_type": "code",
   "execution_count": 43,
   "metadata": {},
   "outputs": [
    {
     "data": {
      "text/plain": [
       "array([2, 2, 2, 2, 2, 1, 2, 2, 2, 2, 2, 2, 1, 2, 0, 0, 0, 0, 0, 0, 0, 0,\n",
       "       0, 0, 0, 0, 0, 0, 2, 1, 1, 1, 1, 1, 1, 1, 1, 1, 1, 1, 1, 1],\n",
       "      dtype=int64)"
      ]
     },
     "execution_count": 43,
     "metadata": {},
     "output_type": "execute_result"
    }
   ],
   "source": [
    "pred03=model01.predict(X)\n",
    "pred03"
   ]
  },
  {
   "cell_type": "code",
   "execution_count": 44,
   "metadata": {},
   "outputs": [],
   "source": [
    "acc_NB1=accuracy_score(pred03,Y)"
   ]
  },
  {
   "cell_type": "code",
   "execution_count": 45,
   "metadata": {},
   "outputs": [
    {
     "name": "stdout",
     "output_type": "stream",
     "text": [
      "Accuracy=  0.9285714285714286\n"
     ]
    }
   ],
   "source": [
    "# accuracy of the entire data set\n",
    "print(\"Accuracy= \",accuracy_score(pred03,Y))"
   ]
  },
  {
   "cell_type": "markdown",
   "metadata": {},
   "source": [
    "# DT"
   ]
  },
  {
   "cell_type": "code",
   "execution_count": 46,
   "metadata": {},
   "outputs": [],
   "source": [
    "#reading the .csv data file\n",
    "data= pd.read_csv(r\"C:\\Users\\mpkha\\Desktop\\VIT Course 2\\project\\project\\seeds-less-rows.csv\")"
   ]
  },
  {
   "cell_type": "code",
   "execution_count": 47,
   "metadata": {},
   "outputs": [],
   "source": [
    "data[\"grain_variety\"].replace(\"Rosa wheat\",0,inplace=True)\n",
    "data[\"grain_variety\"].replace(\"Canadian wheat\",1,inplace=True)\n",
    "data[\"grain_variety\"].replace(\"Kama wheat\",2,inplace=True)"
   ]
  },
  {
   "cell_type": "code",
   "execution_count": 48,
   "metadata": {},
   "outputs": [
    {
     "data": {
      "text/html": [
       "<div>\n",
       "<style scoped>\n",
       "    .dataframe tbody tr th:only-of-type {\n",
       "        vertical-align: middle;\n",
       "    }\n",
       "\n",
       "    .dataframe tbody tr th {\n",
       "        vertical-align: top;\n",
       "    }\n",
       "\n",
       "    .dataframe thead th {\n",
       "        text-align: right;\n",
       "    }\n",
       "</style>\n",
       "<table border=\"1\" class=\"dataframe\">\n",
       "  <thead>\n",
       "    <tr style=\"text-align: right;\">\n",
       "      <th></th>\n",
       "      <th>area</th>\n",
       "      <th>perimeter</th>\n",
       "      <th>compactness</th>\n",
       "      <th>length</th>\n",
       "      <th>width</th>\n",
       "      <th>asymmetry_coefficient</th>\n",
       "      <th>groove_length</th>\n",
       "      <th>grain_variety</th>\n",
       "    </tr>\n",
       "  </thead>\n",
       "  <tbody>\n",
       "    <tr>\n",
       "      <td>count</td>\n",
       "      <td>42.000000</td>\n",
       "      <td>42.000000</td>\n",
       "      <td>42.000000</td>\n",
       "      <td>42.000000</td>\n",
       "      <td>42.000000</td>\n",
       "      <td>42.000000</td>\n",
       "      <td>42.000000</td>\n",
       "      <td>42.000000</td>\n",
       "    </tr>\n",
       "    <tr>\n",
       "      <td>mean</td>\n",
       "      <td>14.923333</td>\n",
       "      <td>14.582619</td>\n",
       "      <td>0.873200</td>\n",
       "      <td>5.614214</td>\n",
       "      <td>3.278429</td>\n",
       "      <td>3.707095</td>\n",
       "      <td>5.396119</td>\n",
       "      <td>1.000000</td>\n",
       "    </tr>\n",
       "    <tr>\n",
       "      <td>std</td>\n",
       "      <td>2.852972</td>\n",
       "      <td>1.289640</td>\n",
       "      <td>0.022442</td>\n",
       "      <td>0.418348</td>\n",
       "      <td>0.375864</td>\n",
       "      <td>1.521039</td>\n",
       "      <td>0.461898</td>\n",
       "      <td>0.826394</td>\n",
       "    </tr>\n",
       "    <tr>\n",
       "      <td>min</td>\n",
       "      <td>11.230000</td>\n",
       "      <td>12.630000</td>\n",
       "      <td>0.819800</td>\n",
       "      <td>4.902000</td>\n",
       "      <td>2.710000</td>\n",
       "      <td>1.018000</td>\n",
       "      <td>4.703000</td>\n",
       "      <td>0.000000</td>\n",
       "    </tr>\n",
       "    <tr>\n",
       "      <td>25%</td>\n",
       "      <td>12.445000</td>\n",
       "      <td>13.467500</td>\n",
       "      <td>0.860250</td>\n",
       "      <td>5.256750</td>\n",
       "      <td>2.927000</td>\n",
       "      <td>2.716500</td>\n",
       "      <td>5.013250</td>\n",
       "      <td>0.000000</td>\n",
       "    </tr>\n",
       "    <tr>\n",
       "      <td>50%</td>\n",
       "      <td>14.400000</td>\n",
       "      <td>14.360000</td>\n",
       "      <td>0.875300</td>\n",
       "      <td>5.547500</td>\n",
       "      <td>3.296000</td>\n",
       "      <td>3.556000</td>\n",
       "      <td>5.223500</td>\n",
       "      <td>1.000000</td>\n",
       "    </tr>\n",
       "    <tr>\n",
       "      <td>75%</td>\n",
       "      <td>17.832500</td>\n",
       "      <td>15.897500</td>\n",
       "      <td>0.885875</td>\n",
       "      <td>6.039750</td>\n",
       "      <td>3.571250</td>\n",
       "      <td>4.842250</td>\n",
       "      <td>5.878500</td>\n",
       "      <td>2.000000</td>\n",
       "    </tr>\n",
       "    <tr>\n",
       "      <td>max</td>\n",
       "      <td>19.380000</td>\n",
       "      <td>16.720000</td>\n",
       "      <td>0.918300</td>\n",
       "      <td>6.341000</td>\n",
       "      <td>3.897000</td>\n",
       "      <td>7.035000</td>\n",
       "      <td>6.238000</td>\n",
       "      <td>2.000000</td>\n",
       "    </tr>\n",
       "  </tbody>\n",
       "</table>\n",
       "</div>"
      ],
      "text/plain": [
       "            area  perimeter  compactness     length      width  \\\n",
       "count  42.000000  42.000000    42.000000  42.000000  42.000000   \n",
       "mean   14.923333  14.582619     0.873200   5.614214   3.278429   \n",
       "std     2.852972   1.289640     0.022442   0.418348   0.375864   \n",
       "min    11.230000  12.630000     0.819800   4.902000   2.710000   \n",
       "25%    12.445000  13.467500     0.860250   5.256750   2.927000   \n",
       "50%    14.400000  14.360000     0.875300   5.547500   3.296000   \n",
       "75%    17.832500  15.897500     0.885875   6.039750   3.571250   \n",
       "max    19.380000  16.720000     0.918300   6.341000   3.897000   \n",
       "\n",
       "       asymmetry_coefficient  groove_length  grain_variety  \n",
       "count              42.000000      42.000000      42.000000  \n",
       "mean                3.707095       5.396119       1.000000  \n",
       "std                 1.521039       0.461898       0.826394  \n",
       "min                 1.018000       4.703000       0.000000  \n",
       "25%                 2.716500       5.013250       0.000000  \n",
       "50%                 3.556000       5.223500       1.000000  \n",
       "75%                 4.842250       5.878500       2.000000  \n",
       "max                 7.035000       6.238000       2.000000  "
      ]
     },
     "execution_count": 48,
     "metadata": {},
     "output_type": "execute_result"
    }
   ],
   "source": [
    "data.describe()"
   ]
  },
  {
   "cell_type": "code",
   "execution_count": 49,
   "metadata": {},
   "outputs": [],
   "source": [
    "colnames = list(data.columns)"
   ]
  },
  {
   "cell_type": "code",
   "execution_count": 50,
   "metadata": {},
   "outputs": [
    {
     "data": {
      "text/plain": [
       "['area',\n",
       " 'perimeter',\n",
       " 'compactness',\n",
       " 'length',\n",
       " 'width',\n",
       " 'asymmetry_coefficient',\n",
       " 'groove_length',\n",
       " 'grain_variety']"
      ]
     },
     "execution_count": 50,
     "metadata": {},
     "output_type": "execute_result"
    }
   ],
   "source": [
    "colnames #Getting column names"
   ]
  },
  {
   "cell_type": "code",
   "execution_count": 51,
   "metadata": {},
   "outputs": [
    {
     "data": {
      "text/html": [
       "<div>\n",
       "<style scoped>\n",
       "    .dataframe tbody tr th:only-of-type {\n",
       "        vertical-align: middle;\n",
       "    }\n",
       "\n",
       "    .dataframe tbody tr th {\n",
       "        vertical-align: top;\n",
       "    }\n",
       "\n",
       "    .dataframe thead th {\n",
       "        text-align: right;\n",
       "    }\n",
       "</style>\n",
       "<table border=\"1\" class=\"dataframe\">\n",
       "  <thead>\n",
       "    <tr style=\"text-align: right;\">\n",
       "      <th></th>\n",
       "      <th>area</th>\n",
       "      <th>perimeter</th>\n",
       "      <th>compactness</th>\n",
       "      <th>length</th>\n",
       "      <th>width</th>\n",
       "      <th>asymmetry_coefficient</th>\n",
       "      <th>groove_length</th>\n",
       "      <th>grain_variety</th>\n",
       "    </tr>\n",
       "  </thead>\n",
       "  <tbody>\n",
       "    <tr>\n",
       "      <td>count</td>\n",
       "      <td>42.000000</td>\n",
       "      <td>42.000000</td>\n",
       "      <td>42.000000</td>\n",
       "      <td>42.000000</td>\n",
       "      <td>42.000000</td>\n",
       "      <td>42.000000</td>\n",
       "      <td>42.000000</td>\n",
       "      <td>42.000000</td>\n",
       "    </tr>\n",
       "    <tr>\n",
       "      <td>mean</td>\n",
       "      <td>14.923333</td>\n",
       "      <td>14.582619</td>\n",
       "      <td>0.873200</td>\n",
       "      <td>5.614214</td>\n",
       "      <td>3.278429</td>\n",
       "      <td>3.707095</td>\n",
       "      <td>5.396119</td>\n",
       "      <td>1.000000</td>\n",
       "    </tr>\n",
       "    <tr>\n",
       "      <td>std</td>\n",
       "      <td>2.852972</td>\n",
       "      <td>1.289640</td>\n",
       "      <td>0.022442</td>\n",
       "      <td>0.418348</td>\n",
       "      <td>0.375864</td>\n",
       "      <td>1.521039</td>\n",
       "      <td>0.461898</td>\n",
       "      <td>0.826394</td>\n",
       "    </tr>\n",
       "    <tr>\n",
       "      <td>min</td>\n",
       "      <td>11.230000</td>\n",
       "      <td>12.630000</td>\n",
       "      <td>0.819800</td>\n",
       "      <td>4.902000</td>\n",
       "      <td>2.710000</td>\n",
       "      <td>1.018000</td>\n",
       "      <td>4.703000</td>\n",
       "      <td>0.000000</td>\n",
       "    </tr>\n",
       "    <tr>\n",
       "      <td>25%</td>\n",
       "      <td>12.445000</td>\n",
       "      <td>13.467500</td>\n",
       "      <td>0.860250</td>\n",
       "      <td>5.256750</td>\n",
       "      <td>2.927000</td>\n",
       "      <td>2.716500</td>\n",
       "      <td>5.013250</td>\n",
       "      <td>0.000000</td>\n",
       "    </tr>\n",
       "    <tr>\n",
       "      <td>50%</td>\n",
       "      <td>14.400000</td>\n",
       "      <td>14.360000</td>\n",
       "      <td>0.875300</td>\n",
       "      <td>5.547500</td>\n",
       "      <td>3.296000</td>\n",
       "      <td>3.556000</td>\n",
       "      <td>5.223500</td>\n",
       "      <td>1.000000</td>\n",
       "    </tr>\n",
       "    <tr>\n",
       "      <td>75%</td>\n",
       "      <td>17.832500</td>\n",
       "      <td>15.897500</td>\n",
       "      <td>0.885875</td>\n",
       "      <td>6.039750</td>\n",
       "      <td>3.571250</td>\n",
       "      <td>4.842250</td>\n",
       "      <td>5.878500</td>\n",
       "      <td>2.000000</td>\n",
       "    </tr>\n",
       "    <tr>\n",
       "      <td>max</td>\n",
       "      <td>19.380000</td>\n",
       "      <td>16.720000</td>\n",
       "      <td>0.918300</td>\n",
       "      <td>6.341000</td>\n",
       "      <td>3.897000</td>\n",
       "      <td>7.035000</td>\n",
       "      <td>6.238000</td>\n",
       "      <td>2.000000</td>\n",
       "    </tr>\n",
       "  </tbody>\n",
       "</table>\n",
       "</div>"
      ],
      "text/plain": [
       "            area  perimeter  compactness     length      width  \\\n",
       "count  42.000000  42.000000    42.000000  42.000000  42.000000   \n",
       "mean   14.923333  14.582619     0.873200   5.614214   3.278429   \n",
       "std     2.852972   1.289640     0.022442   0.418348   0.375864   \n",
       "min    11.230000  12.630000     0.819800   4.902000   2.710000   \n",
       "25%    12.445000  13.467500     0.860250   5.256750   2.927000   \n",
       "50%    14.400000  14.360000     0.875300   5.547500   3.296000   \n",
       "75%    17.832500  15.897500     0.885875   6.039750   3.571250   \n",
       "max    19.380000  16.720000     0.918300   6.341000   3.897000   \n",
       "\n",
       "       asymmetry_coefficient  groove_length  grain_variety  \n",
       "count              42.000000      42.000000      42.000000  \n",
       "mean                3.707095       5.396119       1.000000  \n",
       "std                 1.521039       0.461898       0.826394  \n",
       "min                 1.018000       4.703000       0.000000  \n",
       "25%                 2.716500       5.013250       0.000000  \n",
       "50%                 3.556000       5.223500       1.000000  \n",
       "75%                 4.842250       5.878500       2.000000  \n",
       "max                 7.035000       6.238000       2.000000  "
      ]
     },
     "execution_count": 51,
     "metadata": {},
     "output_type": "execute_result"
    }
   ],
   "source": [
    "Predictors = colnames[0:7] \n",
    "target = colnames[7]\n",
    "data.describe()"
   ]
  },
  {
   "cell_type": "code",
   "execution_count": 52,
   "metadata": {},
   "outputs": [],
   "source": [
    "train, test = train_test_split(data, test_size= 0.5)"
   ]
  },
  {
   "cell_type": "code",
   "execution_count": 53,
   "metadata": {},
   "outputs": [],
   "source": [
    "model01 =  DecisionTreeClassifier(criterion=\"entropy\")"
   ]
  },
  {
   "cell_type": "code",
   "execution_count": 54,
   "metadata": {},
   "outputs": [
    {
     "data": {
      "text/plain": [
       "DecisionTreeClassifier(class_weight=None, criterion='entropy', max_depth=None,\n",
       "                       max_features=None, max_leaf_nodes=None,\n",
       "                       min_impurity_decrease=0.0, min_impurity_split=None,\n",
       "                       min_samples_leaf=1, min_samples_split=2,\n",
       "                       min_weight_fraction_leaf=0.0, presort=False,\n",
       "                       random_state=None, splitter='best')"
      ]
     },
     "execution_count": 54,
     "metadata": {},
     "output_type": "execute_result"
    }
   ],
   "source": [
    "model01.fit(train[Predictors], train[target])"
   ]
  },
  {
   "cell_type": "code",
   "execution_count": 55,
   "metadata": {},
   "outputs": [
    {
     "data": {
      "text/html": [
       "<div>\n",
       "<style scoped>\n",
       "    .dataframe tbody tr th:only-of-type {\n",
       "        vertical-align: middle;\n",
       "    }\n",
       "\n",
       "    .dataframe tbody tr th {\n",
       "        vertical-align: top;\n",
       "    }\n",
       "\n",
       "    .dataframe thead th {\n",
       "        text-align: right;\n",
       "    }\n",
       "</style>\n",
       "<table border=\"1\" class=\"dataframe\">\n",
       "  <thead>\n",
       "    <tr style=\"text-align: right;\">\n",
       "      <th>col_0</th>\n",
       "      <th>0</th>\n",
       "      <th>1</th>\n",
       "      <th>2</th>\n",
       "    </tr>\n",
       "    <tr>\n",
       "      <th>grain_variety</th>\n",
       "      <th></th>\n",
       "      <th></th>\n",
       "      <th></th>\n",
       "    </tr>\n",
       "  </thead>\n",
       "  <tbody>\n",
       "    <tr>\n",
       "      <td>0</td>\n",
       "      <td>7</td>\n",
       "      <td>0</td>\n",
       "      <td>0</td>\n",
       "    </tr>\n",
       "    <tr>\n",
       "      <td>1</td>\n",
       "      <td>0</td>\n",
       "      <td>4</td>\n",
       "      <td>0</td>\n",
       "    </tr>\n",
       "    <tr>\n",
       "      <td>2</td>\n",
       "      <td>1</td>\n",
       "      <td>2</td>\n",
       "      <td>7</td>\n",
       "    </tr>\n",
       "  </tbody>\n",
       "</table>\n",
       "</div>"
      ],
      "text/plain": [
       "col_0          0  1  2\n",
       "grain_variety         \n",
       "0              7  0  0\n",
       "1              0  4  0\n",
       "2              1  2  7"
      ]
     },
     "execution_count": 55,
     "metadata": {},
     "output_type": "execute_result"
    }
   ],
   "source": [
    "pred01 = model01.predict(test[Predictors])\n",
    "pd.crosstab(test[target], pred01)"
   ]
  },
  {
   "cell_type": "code",
   "execution_count": 56,
   "metadata": {},
   "outputs": [
    {
     "data": {
      "text/plain": [
       "0.95"
      ]
     },
     "execution_count": 56,
     "metadata": {},
     "output_type": "execute_result"
    }
   ],
   "source": [
    "acc_decisiontree1 = (8+5+6)/(8+5+6+1)\n",
    "acc_decisiontree1"
   ]
  },
  {
   "cell_type": "code",
   "execution_count": null,
   "metadata": {},
   "outputs": [],
   "source": []
  },
  {
   "cell_type": "markdown",
   "metadata": {},
   "source": [
    "# SVM"
   ]
  },
  {
   "cell_type": "code",
   "execution_count": 57,
   "metadata": {},
   "outputs": [],
   "source": [
    "# Importing all required libraries\n",
    "from sklearn.model_selection import KFold\n",
    "from sklearn.model_selection import cross_val_score # score evaluate\n",
    "from sklearn.model_selection import cross_val_predict \n",
    "%matplotlib inline"
   ]
  },
  {
   "cell_type": "code",
   "execution_count": 58,
   "metadata": {},
   "outputs": [
    {
     "data": {
      "text/html": [
       "<div>\n",
       "<style scoped>\n",
       "    .dataframe tbody tr th:only-of-type {\n",
       "        vertical-align: middle;\n",
       "    }\n",
       "\n",
       "    .dataframe tbody tr th {\n",
       "        vertical-align: top;\n",
       "    }\n",
       "\n",
       "    .dataframe thead th {\n",
       "        text-align: right;\n",
       "    }\n",
       "</style>\n",
       "<table border=\"1\" class=\"dataframe\">\n",
       "  <thead>\n",
       "    <tr style=\"text-align: right;\">\n",
       "      <th></th>\n",
       "      <th>area</th>\n",
       "      <th>perimeter</th>\n",
       "      <th>compactness</th>\n",
       "      <th>length</th>\n",
       "      <th>width</th>\n",
       "      <th>asymmetry_coefficient</th>\n",
       "      <th>groove_length</th>\n",
       "      <th>grain_variety</th>\n",
       "    </tr>\n",
       "  </thead>\n",
       "  <tbody>\n",
       "    <tr>\n",
       "      <td>count</td>\n",
       "      <td>42.000000</td>\n",
       "      <td>42.000000</td>\n",
       "      <td>42.000000</td>\n",
       "      <td>42.000000</td>\n",
       "      <td>42.000000</td>\n",
       "      <td>42.000000</td>\n",
       "      <td>42.000000</td>\n",
       "      <td>42.000000</td>\n",
       "    </tr>\n",
       "    <tr>\n",
       "      <td>mean</td>\n",
       "      <td>14.923333</td>\n",
       "      <td>14.582619</td>\n",
       "      <td>0.873200</td>\n",
       "      <td>5.614214</td>\n",
       "      <td>3.278429</td>\n",
       "      <td>3.707095</td>\n",
       "      <td>5.396119</td>\n",
       "      <td>1.000000</td>\n",
       "    </tr>\n",
       "    <tr>\n",
       "      <td>std</td>\n",
       "      <td>2.852972</td>\n",
       "      <td>1.289640</td>\n",
       "      <td>0.022442</td>\n",
       "      <td>0.418348</td>\n",
       "      <td>0.375864</td>\n",
       "      <td>1.521039</td>\n",
       "      <td>0.461898</td>\n",
       "      <td>0.826394</td>\n",
       "    </tr>\n",
       "    <tr>\n",
       "      <td>min</td>\n",
       "      <td>11.230000</td>\n",
       "      <td>12.630000</td>\n",
       "      <td>0.819800</td>\n",
       "      <td>4.902000</td>\n",
       "      <td>2.710000</td>\n",
       "      <td>1.018000</td>\n",
       "      <td>4.703000</td>\n",
       "      <td>0.000000</td>\n",
       "    </tr>\n",
       "    <tr>\n",
       "      <td>25%</td>\n",
       "      <td>12.445000</td>\n",
       "      <td>13.467500</td>\n",
       "      <td>0.860250</td>\n",
       "      <td>5.256750</td>\n",
       "      <td>2.927000</td>\n",
       "      <td>2.716500</td>\n",
       "      <td>5.013250</td>\n",
       "      <td>0.000000</td>\n",
       "    </tr>\n",
       "    <tr>\n",
       "      <td>50%</td>\n",
       "      <td>14.400000</td>\n",
       "      <td>14.360000</td>\n",
       "      <td>0.875300</td>\n",
       "      <td>5.547500</td>\n",
       "      <td>3.296000</td>\n",
       "      <td>3.556000</td>\n",
       "      <td>5.223500</td>\n",
       "      <td>1.000000</td>\n",
       "    </tr>\n",
       "    <tr>\n",
       "      <td>75%</td>\n",
       "      <td>17.832500</td>\n",
       "      <td>15.897500</td>\n",
       "      <td>0.885875</td>\n",
       "      <td>6.039750</td>\n",
       "      <td>3.571250</td>\n",
       "      <td>4.842250</td>\n",
       "      <td>5.878500</td>\n",
       "      <td>2.000000</td>\n",
       "    </tr>\n",
       "    <tr>\n",
       "      <td>max</td>\n",
       "      <td>19.380000</td>\n",
       "      <td>16.720000</td>\n",
       "      <td>0.918300</td>\n",
       "      <td>6.341000</td>\n",
       "      <td>3.897000</td>\n",
       "      <td>7.035000</td>\n",
       "      <td>6.238000</td>\n",
       "      <td>2.000000</td>\n",
       "    </tr>\n",
       "  </tbody>\n",
       "</table>\n",
       "</div>"
      ],
      "text/plain": [
       "            area  perimeter  compactness     length      width  \\\n",
       "count  42.000000  42.000000    42.000000  42.000000  42.000000   \n",
       "mean   14.923333  14.582619     0.873200   5.614214   3.278429   \n",
       "std     2.852972   1.289640     0.022442   0.418348   0.375864   \n",
       "min    11.230000  12.630000     0.819800   4.902000   2.710000   \n",
       "25%    12.445000  13.467500     0.860250   5.256750   2.927000   \n",
       "50%    14.400000  14.360000     0.875300   5.547500   3.296000   \n",
       "75%    17.832500  15.897500     0.885875   6.039750   3.571250   \n",
       "max    19.380000  16.720000     0.918300   6.341000   3.897000   \n",
       "\n",
       "       asymmetry_coefficient  groove_length  grain_variety  \n",
       "count              42.000000      42.000000      42.000000  \n",
       "mean                3.707095       5.396119       1.000000  \n",
       "std                 1.521039       0.461898       0.826394  \n",
       "min                 1.018000       4.703000       0.000000  \n",
       "25%                 2.716500       5.013250       0.000000  \n",
       "50%                 3.556000       5.223500       1.000000  \n",
       "75%                 4.842250       5.878500       2.000000  \n",
       "max                 7.035000       6.238000       2.000000  "
      ]
     },
     "execution_count": 58,
     "metadata": {},
     "output_type": "execute_result"
    }
   ],
   "source": [
    "data.describe()"
   ]
  },
  {
   "cell_type": "code",
   "execution_count": 59,
   "metadata": {},
   "outputs": [
    {
     "data": {
      "text/plain": [
       "<matplotlib.axes._subplots.AxesSubplot at 0x1cd6f425f48>"
      ]
     },
     "execution_count": 59,
     "metadata": {},
     "output_type": "execute_result"
    },
    {
     "data": {
      "image/png": "[encoded data removed]",
      "text/plain": [
       "<Figure size 1440x1080 with 2 Axes>"
      ]
     },
     "metadata": {
      "needs_background": "light"
     },
     "output_type": "display_data"
    }
   ],
   "source": [
    "plt.subplots(figsize=(20,15)) # Plotting heatmap\n",
    "sns.heatmap(data.corr())"
   ]
  },
  {
   "cell_type": "code",
   "execution_count": 60,
   "metadata": {},
   "outputs": [],
   "source": [
    "from sklearn.svm import SVC"
   ]
  },
  {
   "cell_type": "code",
   "execution_count": 61,
   "metadata": {},
   "outputs": [
    {
     "data": {
      "text/plain": [
       "<bound method NDFrame.describe of      area  perimeter  compactness  length  width  asymmetry_coefficient  \\\n",
       "0   14.88      14.57       0.8811   5.554  3.333                  1.018   \n",
       "1   14.69      14.49       0.8799   5.563  3.259                  3.586   \n",
       "2   14.03      14.16       0.8796   5.438  3.201                  1.717   \n",
       "3   13.99      13.83       0.9183   5.119  3.383                  5.234   \n",
       "4   14.11      14.26       0.8722   5.520  3.168                  2.688   \n",
       "5   13.02      13.76       0.8641   5.395  3.026                  3.373   \n",
       "6   15.49      14.94       0.8724   5.757  3.371                  3.412   \n",
       "7   16.20      15.27       0.8734   5.826  3.464                  2.823   \n",
       "8   13.50      13.85       0.8852   5.351  3.158                  2.249   \n",
       "9   15.36      14.76       0.8861   5.701  3.393                  1.367   \n",
       "10  15.78      14.91       0.8923   5.674  3.434                  5.593   \n",
       "11  14.46      14.35       0.8818   5.388  3.377                  2.802   \n",
       "12  11.23      12.63       0.8840   4.902  2.879                  2.269   \n",
       "13  14.34      14.37       0.8726   5.630  3.190                  1.313   \n",
       "14  16.84      15.67       0.8623   5.998  3.484                  4.675   \n",
       "15  17.32      15.91       0.8599   6.064  3.403                  3.824   \n",
       "16  18.72      16.19       0.8977   6.006  3.857                  5.324   \n",
       "17  18.88      16.26       0.8969   6.084  3.764                  1.649   \n",
       "18  18.76      16.20       0.8984   6.172  3.796                  3.120   \n",
       "19  19.31      16.59       0.8815   6.341  3.810                  3.477   \n",
       "20  17.99      15.86       0.8992   5.890  3.694                  2.068   \n",
       "21  18.85      16.17       0.9056   6.152  3.806                  2.843   \n",
       "22  19.38      16.72       0.8716   6.303  3.791                  3.678   \n",
       "23  18.96      16.20       0.9077   6.051  3.897                  4.334   \n",
       "24  18.14      16.12       0.8772   6.059  3.563                  3.619   \n",
       "25  18.65      16.41       0.8698   6.285  3.594                  4.391   \n",
       "26  18.94      16.32       0.8942   6.144  3.825                  2.908   \n",
       "27  17.36      15.76       0.8785   6.145  3.574                  3.526   \n",
       "28  13.32      13.94       0.8613   5.541  3.073                  7.035   \n",
       "29  11.43      13.13       0.8335   5.176  2.719                  2.221   \n",
       "30  12.01      13.52       0.8249   5.405  2.776                  6.992   \n",
       "31  11.34      12.87       0.8596   5.053  2.849                  3.347   \n",
       "32  12.02      13.33       0.8503   5.350  2.810                  4.271   \n",
       "33  12.44      13.59       0.8462   5.319  2.897                  4.924   \n",
       "34  11.55      13.10       0.8455   5.167  2.845                  6.715   \n",
       "35  11.26      13.01       0.8355   5.186  2.710                  5.335   \n",
       "36  12.46      13.41       0.8706   5.236  3.017                  4.987   \n",
       "37  11.81      13.45       0.8198   5.413  2.716                  4.898   \n",
       "38  11.27      12.86       0.8563   5.091  2.804                  3.985   \n",
       "39  12.79      13.53       0.8786   5.224  3.054                  5.483   \n",
       "40  12.67      13.32       0.8977   4.984  3.135                  2.300   \n",
       "41  11.23      12.88       0.8511   5.140  2.795                  4.325   \n",
       "\n",
       "    groove_length  grain_variety  \n",
       "0           4.956              2  \n",
       "1           5.219              2  \n",
       "2           5.001              2  \n",
       "3           4.781              2  \n",
       "4           5.219              2  \n",
       "5           4.825              2  \n",
       "6           5.228              2  \n",
       "7           5.527              2  \n",
       "8           5.176              2  \n",
       "9           5.132              2  \n",
       "10          5.136              2  \n",
       "11          5.044              2  \n",
       "12          4.703              2  \n",
       "13          5.150              2  \n",
       "14          5.877              0  \n",
       "15          5.922              0  \n",
       "16          5.879              0  \n",
       "17          6.109              0  \n",
       "18          6.053              0  \n",
       "19          6.238              0  \n",
       "20          5.837              0  \n",
       "21          6.200              0  \n",
       "22          5.965              0  \n",
       "23          5.750              0  \n",
       "24          6.011              0  \n",
       "25          6.102              0  \n",
       "26          5.949              0  \n",
       "27          5.971              0  \n",
       "28          5.440              1  \n",
       "29          5.132              1  \n",
       "30          5.270              1  \n",
       "31          5.003              1  \n",
       "32          5.308              1  \n",
       "33          5.270              1  \n",
       "34          4.956              1  \n",
       "35          5.092              1  \n",
       "36          5.147              1  \n",
       "37          5.352              1  \n",
       "38          5.001              1  \n",
       "39          4.958              1  \n",
       "40          4.745              1  \n",
       "41          5.003              1  >"
      ]
     },
     "execution_count": 61,
     "metadata": {},
     "output_type": "execute_result"
    }
   ],
   "source": [
    "data.describe"
   ]
  },
  {
   "cell_type": "code",
   "execution_count": 62,
   "metadata": {},
   "outputs": [],
   "source": [
    "features=data.drop(\"grain_variety\", axis=1)\n",
    "target = data[\"grain_variety\"]"
   ]
  },
  {
   "cell_type": "code",
   "execution_count": 63,
   "metadata": {},
   "outputs": [
    {
     "name": "stdout",
     "output_type": "stream",
     "text": [
      "(29, 7)  \n",
      "\n",
      "\n",
      " (13, 7)\n"
     ]
    }
   ],
   "source": [
    "X_train,X_test, Y_train, Y_test = train_test_split(features,target, test_size=0.3, random_state = 5) \n",
    "print(X_train.shape,\" \\n\\n\\n\", X_test.shape)"
   ]
  },
  {
   "cell_type": "code",
   "execution_count": 64,
   "metadata": {},
   "outputs": [
    {
     "name": "stderr",
     "output_type": "stream",
     "text": [
      "C:\\Users\\mpkha\\Anaconda3\\lib\\site-packages\\sklearn\\svm\\base.py:193: FutureWarning: The default value of gamma will change from 'auto' to 'scale' in version 0.22 to account better for unscaled features. Set gamma explicitly to 'auto' or 'scale' to avoid this warning.\n",
      "  \"avoid this warning.\", FutureWarning)\n"
     ]
    },
    {
     "data": {
      "text/plain": [
       "0.9310344827586207"
      ]
     },
     "execution_count": 64,
     "metadata": {},
     "output_type": "execute_result"
    }
   ],
   "source": [
    "model01 = SVC()\n",
    "model01.fit(X_train,Y_train)\n",
    "pred01 = model01.predict(X_train)\n",
    "accuracy_score(Y_train,pred01)"
   ]
  },
  {
   "cell_type": "code",
   "execution_count": 65,
   "metadata": {},
   "outputs": [
    {
     "data": {
      "text/plain": [
       "array([[11,  0,  0],\n",
       "       [ 0,  9,  1],\n",
       "       [ 0,  1,  7]], dtype=int64)"
      ]
     },
     "execution_count": 65,
     "metadata": {},
     "output_type": "execute_result"
    }
   ],
   "source": [
    "confusion_matrix(Y_train,pred01)"
   ]
  },
  {
   "cell_type": "code",
   "execution_count": 66,
   "metadata": {},
   "outputs": [
    {
     "data": {
      "text/html": [
       "<div>\n",
       "<style scoped>\n",
       "    .dataframe tbody tr th:only-of-type {\n",
       "        vertical-align: middle;\n",
       "    }\n",
       "\n",
       "    .dataframe tbody tr th {\n",
       "        vertical-align: top;\n",
       "    }\n",
       "\n",
       "    .dataframe thead th {\n",
       "        text-align: right;\n",
       "    }\n",
       "</style>\n",
       "<table border=\"1\" class=\"dataframe\">\n",
       "  <thead>\n",
       "    <tr style=\"text-align: right;\">\n",
       "      <th>col_0</th>\n",
       "      <th>0</th>\n",
       "      <th>1</th>\n",
       "      <th>2</th>\n",
       "    </tr>\n",
       "    <tr>\n",
       "      <th>grain_variety</th>\n",
       "      <th></th>\n",
       "      <th></th>\n",
       "      <th></th>\n",
       "    </tr>\n",
       "  </thead>\n",
       "  <tbody>\n",
       "    <tr>\n",
       "      <td>0</td>\n",
       "      <td>11</td>\n",
       "      <td>0</td>\n",
       "      <td>0</td>\n",
       "    </tr>\n",
       "    <tr>\n",
       "      <td>1</td>\n",
       "      <td>0</td>\n",
       "      <td>9</td>\n",
       "      <td>1</td>\n",
       "    </tr>\n",
       "    <tr>\n",
       "      <td>2</td>\n",
       "      <td>0</td>\n",
       "      <td>1</td>\n",
       "      <td>7</td>\n",
       "    </tr>\n",
       "  </tbody>\n",
       "</table>\n",
       "</div>"
      ],
      "text/plain": [
       "col_0           0  1  2\n",
       "grain_variety          \n",
       "0              11  0  0\n",
       "1               0  9  1\n",
       "2               0  1  7"
      ]
     },
     "execution_count": 66,
     "metadata": {},
     "output_type": "execute_result"
    }
   ],
   "source": [
    "pd.crosstab(Y_train,pred01)"
   ]
  },
  {
   "cell_type": "code",
   "execution_count": 67,
   "metadata": {},
   "outputs": [
    {
     "data": {
      "text/plain": [
       "(29, 7)"
      ]
     },
     "execution_count": 67,
     "metadata": {},
     "output_type": "execute_result"
    }
   ],
   "source": [
    "X_train.shape"
   ]
  },
  {
   "cell_type": "code",
   "execution_count": 68,
   "metadata": {},
   "outputs": [
    {
     "data": {
      "text/plain": [
       "0.9310344827586207"
      ]
     },
     "execution_count": 68,
     "metadata": {},
     "output_type": "execute_result"
    }
   ],
   "source": [
    "acc_svm1 = (11+9+7)/(11+9+7+1+1)\n",
    "acc_svm1"
   ]
  },
  {
   "cell_type": "markdown",
   "metadata": {},
   "source": [
    "# KNN"
   ]
  },
  {
   "cell_type": "code",
   "execution_count": 69,
   "metadata": {},
   "outputs": [],
   "source": [
    "from sklearn.neighbors import KNeighborsClassifier as KNC #importing KNC library for KNN Algorithm"
   ]
  },
  {
   "cell_type": "code",
   "execution_count": 70,
   "metadata": {},
   "outputs": [
    {
     "data": {
      "text/html": [
       "<div>\n",
       "<style scoped>\n",
       "    .dataframe tbody tr th:only-of-type {\n",
       "        vertical-align: middle;\n",
       "    }\n",
       "\n",
       "    .dataframe tbody tr th {\n",
       "        vertical-align: top;\n",
       "    }\n",
       "\n",
       "    .dataframe thead th {\n",
       "        text-align: right;\n",
       "    }\n",
       "</style>\n",
       "<table border=\"1\" class=\"dataframe\">\n",
       "  <thead>\n",
       "    <tr style=\"text-align: right;\">\n",
       "      <th></th>\n",
       "      <th>area</th>\n",
       "      <th>perimeter</th>\n",
       "      <th>compactness</th>\n",
       "      <th>length</th>\n",
       "      <th>width</th>\n",
       "      <th>asymmetry_coefficient</th>\n",
       "      <th>groove_length</th>\n",
       "      <th>grain_variety</th>\n",
       "    </tr>\n",
       "  </thead>\n",
       "  <tbody>\n",
       "    <tr>\n",
       "      <td>0</td>\n",
       "      <td>14.88</td>\n",
       "      <td>14.57</td>\n",
       "      <td>0.8811</td>\n",
       "      <td>5.554</td>\n",
       "      <td>3.333</td>\n",
       "      <td>1.018</td>\n",
       "      <td>4.956</td>\n",
       "      <td>2</td>\n",
       "    </tr>\n",
       "    <tr>\n",
       "      <td>1</td>\n",
       "      <td>14.69</td>\n",
       "      <td>14.49</td>\n",
       "      <td>0.8799</td>\n",
       "      <td>5.563</td>\n",
       "      <td>3.259</td>\n",
       "      <td>3.586</td>\n",
       "      <td>5.219</td>\n",
       "      <td>2</td>\n",
       "    </tr>\n",
       "    <tr>\n",
       "      <td>2</td>\n",
       "      <td>14.03</td>\n",
       "      <td>14.16</td>\n",
       "      <td>0.8796</td>\n",
       "      <td>5.438</td>\n",
       "      <td>3.201</td>\n",
       "      <td>1.717</td>\n",
       "      <td>5.001</td>\n",
       "      <td>2</td>\n",
       "    </tr>\n",
       "    <tr>\n",
       "      <td>3</td>\n",
       "      <td>13.99</td>\n",
       "      <td>13.83</td>\n",
       "      <td>0.9183</td>\n",
       "      <td>5.119</td>\n",
       "      <td>3.383</td>\n",
       "      <td>5.234</td>\n",
       "      <td>4.781</td>\n",
       "      <td>2</td>\n",
       "    </tr>\n",
       "    <tr>\n",
       "      <td>4</td>\n",
       "      <td>14.11</td>\n",
       "      <td>14.26</td>\n",
       "      <td>0.8722</td>\n",
       "      <td>5.520</td>\n",
       "      <td>3.168</td>\n",
       "      <td>2.688</td>\n",
       "      <td>5.219</td>\n",
       "      <td>2</td>\n",
       "    </tr>\n",
       "  </tbody>\n",
       "</table>\n",
       "</div>"
      ],
      "text/plain": [
       "    area  perimeter  compactness  length  width  asymmetry_coefficient  \\\n",
       "0  14.88      14.57       0.8811   5.554  3.333                  1.018   \n",
       "1  14.69      14.49       0.8799   5.563  3.259                  3.586   \n",
       "2  14.03      14.16       0.8796   5.438  3.201                  1.717   \n",
       "3  13.99      13.83       0.9183   5.119  3.383                  5.234   \n",
       "4  14.11      14.26       0.8722   5.520  3.168                  2.688   \n",
       "\n",
       "   groove_length  grain_variety  \n",
       "0          4.956              2  \n",
       "1          5.219              2  \n",
       "2          5.001              2  \n",
       "3          4.781              2  \n",
       "4          5.219              2  "
      ]
     },
     "execution_count": 70,
     "metadata": {},
     "output_type": "execute_result"
    }
   ],
   "source": [
    "#Taking the initial rows from the dataset\n",
    "data.head()"
   ]
  },
  {
   "cell_type": "code",
   "execution_count": 71,
   "metadata": {},
   "outputs": [
    {
     "name": "stdout",
     "output_type": "stream",
     "text": [
      "<class 'pandas.core.frame.DataFrame'>\n",
      "RangeIndex: 42 entries, 0 to 41\n",
      "Data columns (total 8 columns):\n",
      "area                     42 non-null float64\n",
      "perimeter                42 non-null float64\n",
      "compactness              42 non-null float64\n",
      "length                   42 non-null float64\n",
      "width                    42 non-null float64\n",
      "asymmetry_coefficient    42 non-null float64\n",
      "groove_length            42 non-null float64\n",
      "grain_variety            42 non-null int64\n",
      "dtypes: float64(7), int64(1)\n",
      "memory usage: 2.8 KB\n"
     ]
    }
   ],
   "source": [
    "#Getting info about the dataset\n",
    "data.info()"
   ]
  },
  {
   "cell_type": "code",
   "execution_count": 72,
   "metadata": {},
   "outputs": [
    {
     "data": {
      "text/plain": [
       "(42, 8)"
      ]
     },
     "execution_count": 72,
     "metadata": {},
     "output_type": "execute_result"
    }
   ],
   "source": [
    "#Getting the total entries of the dataset\n",
    "data.shape"
   ]
  },
  {
   "cell_type": "code",
   "execution_count": 73,
   "metadata": {},
   "outputs": [
    {
     "data": {
      "text/html": [
       "<div>\n",
       "<style scoped>\n",
       "    .dataframe tbody tr th:only-of-type {\n",
       "        vertical-align: middle;\n",
       "    }\n",
       "\n",
       "    .dataframe tbody tr th {\n",
       "        vertical-align: top;\n",
       "    }\n",
       "\n",
       "    .dataframe thead th {\n",
       "        text-align: right;\n",
       "    }\n",
       "</style>\n",
       "<table border=\"1\" class=\"dataframe\">\n",
       "  <thead>\n",
       "    <tr style=\"text-align: right;\">\n",
       "      <th></th>\n",
       "      <th>area</th>\n",
       "      <th>perimeter</th>\n",
       "      <th>compactness</th>\n",
       "      <th>length</th>\n",
       "      <th>width</th>\n",
       "      <th>asymmetry_coefficient</th>\n",
       "      <th>groove_length</th>\n",
       "      <th>grain_variety</th>\n",
       "    </tr>\n",
       "  </thead>\n",
       "  <tbody>\n",
       "    <tr>\n",
       "      <td>37</td>\n",
       "      <td>11.81</td>\n",
       "      <td>13.45</td>\n",
       "      <td>0.8198</td>\n",
       "      <td>5.413</td>\n",
       "      <td>2.716</td>\n",
       "      <td>4.898</td>\n",
       "      <td>5.352</td>\n",
       "      <td>1</td>\n",
       "    </tr>\n",
       "    <tr>\n",
       "      <td>38</td>\n",
       "      <td>11.27</td>\n",
       "      <td>12.86</td>\n",
       "      <td>0.8563</td>\n",
       "      <td>5.091</td>\n",
       "      <td>2.804</td>\n",
       "      <td>3.985</td>\n",
       "      <td>5.001</td>\n",
       "      <td>1</td>\n",
       "    </tr>\n",
       "    <tr>\n",
       "      <td>39</td>\n",
       "      <td>12.79</td>\n",
       "      <td>13.53</td>\n",
       "      <td>0.8786</td>\n",
       "      <td>5.224</td>\n",
       "      <td>3.054</td>\n",
       "      <td>5.483</td>\n",
       "      <td>4.958</td>\n",
       "      <td>1</td>\n",
       "    </tr>\n",
       "    <tr>\n",
       "      <td>40</td>\n",
       "      <td>12.67</td>\n",
       "      <td>13.32</td>\n",
       "      <td>0.8977</td>\n",
       "      <td>4.984</td>\n",
       "      <td>3.135</td>\n",
       "      <td>2.300</td>\n",
       "      <td>4.745</td>\n",
       "      <td>1</td>\n",
       "    </tr>\n",
       "    <tr>\n",
       "      <td>41</td>\n",
       "      <td>11.23</td>\n",
       "      <td>12.88</td>\n",
       "      <td>0.8511</td>\n",
       "      <td>5.140</td>\n",
       "      <td>2.795</td>\n",
       "      <td>4.325</td>\n",
       "      <td>5.003</td>\n",
       "      <td>1</td>\n",
       "    </tr>\n",
       "  </tbody>\n",
       "</table>\n",
       "</div>"
      ],
      "text/plain": [
       "     area  perimeter  compactness  length  width  asymmetry_coefficient  \\\n",
       "37  11.81      13.45       0.8198   5.413  2.716                  4.898   \n",
       "38  11.27      12.86       0.8563   5.091  2.804                  3.985   \n",
       "39  12.79      13.53       0.8786   5.224  3.054                  5.483   \n",
       "40  12.67      13.32       0.8977   4.984  3.135                  2.300   \n",
       "41  11.23      12.88       0.8511   5.140  2.795                  4.325   \n",
       "\n",
       "    groove_length  grain_variety  \n",
       "37          5.352              1  \n",
       "38          5.001              1  \n",
       "39          4.958              1  \n",
       "40          4.745              1  \n",
       "41          5.003              1  "
      ]
     },
     "execution_count": 73,
     "metadata": {},
     "output_type": "execute_result"
    }
   ],
   "source": [
    "#The last entries of the dataset\n",
    "data.tail()"
   ]
  },
  {
   "cell_type": "code",
   "execution_count": 74,
   "metadata": {},
   "outputs": [],
   "source": [
    "#Splitting the data into train and test with test size 0.3\n",
    "train, test = train_test_split(data,test_size=0.3)"
   ]
  },
  {
   "cell_type": "code",
   "execution_count": 75,
   "metadata": {},
   "outputs": [],
   "source": [
    "#Dropping the dependent variables for evaluation and storing in 1 column\n",
    "trainX  = train.drop([\"grain_variety\"],axis=1)\n",
    "trainY = train[\"grain_variety\"]\n",
    "\n",
    "testX = test.drop([\"grain_variety\"], axis=1)\n",
    "testY = test[\"grain_variety\"]"
   ]
  },
  {
   "cell_type": "code",
   "execution_count": 76,
   "metadata": {},
   "outputs": [
    {
     "data": {
      "text/plain": [
       "KNeighborsClassifier(algorithm='auto', leaf_size=30, metric='minkowski',\n",
       "                     metric_params=None, n_jobs=None, n_neighbors=3, p=2,\n",
       "                     weights='uniform')"
      ]
     },
     "execution_count": 76,
     "metadata": {},
     "output_type": "execute_result"
    }
   ],
   "source": [
    "#Building and fitting the model for KNN for inflamation\n",
    "model01 = KNC (n_neighbors=3)\n",
    "model01.fit(trainX,trainY)"
   ]
  },
  {
   "cell_type": "code",
   "execution_count": 77,
   "metadata": {},
   "outputs": [],
   "source": [
    "#Predicting the model\n",
    "pred01= model01.predict(trainX)"
   ]
  },
  {
   "cell_type": "code",
   "execution_count": 78,
   "metadata": {},
   "outputs": [],
   "source": [
    "#Taking the average of prediction\n",
    "train_acc = np.mean(pred01 == trainY)"
   ]
  },
  {
   "cell_type": "code",
   "execution_count": 79,
   "metadata": {},
   "outputs": [
    {
     "data": {
      "text/plain": [
       "0.9655172413793104"
      ]
     },
     "execution_count": 79,
     "metadata": {},
     "output_type": "execute_result"
    }
   ],
   "source": [
    "#Checking the accuracy, here the accuracy is 1 because of the dataset being small\n",
    "train_acc"
   ]
  },
  {
   "cell_type": "code",
   "execution_count": 80,
   "metadata": {},
   "outputs": [
    {
     "data": {
      "text/plain": [
       "0.9230769230769231"
      ]
     },
     "execution_count": 80,
     "metadata": {},
     "output_type": "execute_result"
    }
   ],
   "source": [
    "#predicting for testing dataset\n",
    "pred02 = model01.predict(testX)\n",
    "test_acc = np.mean(pred02== testY)\n",
    "test_acc"
   ]
  },
  {
   "cell_type": "code",
   "execution_count": 81,
   "metadata": {},
   "outputs": [
    {
     "name": "stdout",
     "output_type": "stream",
     "text": [
      "0.9655172413793104 \n",
      " 0.8461538461538461\n"
     ]
    },
    {
     "data": {
      "text/plain": [
       "0.9058355437665783"
      ]
     },
     "execution_count": 81,
     "metadata": {},
     "output_type": "execute_result"
    }
   ],
   "source": [
    "#Similarly doing the prediction and model fitting with changed K value\n",
    "model02 = KNC (n_neighbors = 5)\n",
    "model02.fit(trainX,trainY)\n",
    "pred03= model02.predict(trainX)\n",
    "train_acc = np.mean(pred03 == trainY)\n",
    "pred04 = model02.predict(testX)\n",
    "test_acc = np.mean(pred04== testY)\n",
    "\n",
    "print(train_acc,\"\\n\",test_acc)\n",
    "acc_KNN1= (train_acc+test_acc)/2\n",
    "acc_KNN1"
   ]
  },
  {
   "cell_type": "code",
   "execution_count": 82,
   "metadata": {},
   "outputs": [],
   "source": [
    "#Creating a list for storing accuracy\n",
    "acc=[]\n",
    "for i in range(3,20,2):\n",
    "    model = KNC(n_neighbors=i)\n",
    "    model.fit(trainX, trainY)\n",
    "    train_acc = np.mean(pred03 == trainY)\n",
    "    test_acc = np.mean(pred04== testY)\n",
    "    acc.append([train_acc, test_acc]) #appending the training and testing accuracy"
   ]
  },
  {
   "cell_type": "code",
   "execution_count": 83,
   "metadata": {},
   "outputs": [
    {
     "data": {
      "text/plain": [
       "<matplotlib.legend.Legend at 0x1cd6fad1888>"
      ]
     },
     "execution_count": 83,
     "metadata": {},
     "output_type": "execute_result"
    },
    {
     "data": {
      "image/png": "[encoded data removed]",
      "text/plain": [
       "<Figure size 432x288 with 1 Axes>"
      ]
     },
     "metadata": {
      "needs_background": "light"
     },
     "output_type": "display_data"
    }
   ],
   "source": [
    "#plotting the graph of training accuracy\n",
    "plt.plot(np.arange(1,10,1),[i[0] for i in acc], \"ro-\")\n",
    "plt.legend([\"train\", \"test\"])"
   ]
  },
  {
   "cell_type": "code",
   "execution_count": 84,
   "metadata": {},
   "outputs": [
    {
     "data": {
      "text/plain": [
       "<matplotlib.legend.Legend at 0x1cd6f4edf88>"
      ]
     },
     "execution_count": 84,
     "metadata": {},
     "output_type": "execute_result"
    },
    {
     "data": {
      "image/png": "[encoded data removed]",
      "text/plain": [
       "<Figure size 432x288 with 1 Axes>"
      ]
     },
     "metadata": {
      "needs_background": "light"
     },
     "output_type": "display_data"
    }
   ],
   "source": [
    "#plotting the graph of testing accuracy\n",
    "plt.plot(np.arange(1,10,1),[i[1] for i in acc], \"bo-\")\n",
    "plt.legend([\"test\", \"train\"])"
   ]
  },
  {
   "cell_type": "code",
   "execution_count": null,
   "metadata": {},
   "outputs": [],
   "source": []
  },
  {
   "cell_type": "markdown",
   "metadata": {},
   "source": [
    "# model assesment"
   ]
  },
  {
   "cell_type": "code",
   "execution_count": 85,
   "metadata": {},
   "outputs": [],
   "source": [
    "models_grainvariety= pd.DataFrame({ \n",
    "\"Model\" : [\"Logistic Regression\", \"Naive Bayes\", \"Decision Tree\", \"Support Vector Machine\" , \"KNN\"],\n",
    "\"FullScore\" : [acc_log1,acc_NB1,acc_decisiontree1,acc_svm1,acc_KNN1]\n",
    "})"
   ]
  },
  {
   "cell_type": "code",
   "execution_count": 86,
   "metadata": {},
   "outputs": [
    {
     "data": {
      "text/html": [
       "<div>\n",
       "<style scoped>\n",
       "    .dataframe tbody tr th:only-of-type {\n",
       "        vertical-align: middle;\n",
       "    }\n",
       "\n",
       "    .dataframe tbody tr th {\n",
       "        vertical-align: top;\n",
       "    }\n",
       "\n",
       "    .dataframe thead th {\n",
       "        text-align: right;\n",
       "    }\n",
       "</style>\n",
       "<table border=\"1\" class=\"dataframe\">\n",
       "  <thead>\n",
       "    <tr style=\"text-align: right;\">\n",
       "      <th></th>\n",
       "      <th>Model</th>\n",
       "      <th>FullScore</th>\n",
       "    </tr>\n",
       "  </thead>\n",
       "  <tbody>\n",
       "    <tr>\n",
       "      <td>0</td>\n",
       "      <td>Logistic Regression</td>\n",
       "      <td>0.904762</td>\n",
       "    </tr>\n",
       "    <tr>\n",
       "      <td>1</td>\n",
       "      <td>Naive Bayes</td>\n",
       "      <td>0.928571</td>\n",
       "    </tr>\n",
       "    <tr>\n",
       "      <td>2</td>\n",
       "      <td>Decision Tree</td>\n",
       "      <td>0.950000</td>\n",
       "    </tr>\n",
       "    <tr>\n",
       "      <td>3</td>\n",
       "      <td>Support Vector Machine</td>\n",
       "      <td>0.931034</td>\n",
       "    </tr>\n",
       "    <tr>\n",
       "      <td>4</td>\n",
       "      <td>KNN</td>\n",
       "      <td>0.905836</td>\n",
       "    </tr>\n",
       "  </tbody>\n",
       "</table>\n",
       "</div>"
      ],
      "text/plain": [
       "                    Model  FullScore\n",
       "0     Logistic Regression   0.904762\n",
       "1             Naive Bayes   0.928571\n",
       "2           Decision Tree   0.950000\n",
       "3  Support Vector Machine   0.931034\n",
       "4                     KNN   0.905836"
      ]
     },
     "execution_count": 86,
     "metadata": {},
     "output_type": "execute_result"
    }
   ],
   "source": [
    "models_grainvariety.head()"
   ]
  },
  {
   "cell_type": "code",
   "execution_count": null,
   "metadata": {},
   "outputs": [],
   "source": []
  },
  {
   "cell_type": "code",
   "execution_count": null,
   "metadata": {},
   "outputs": [],
   "source": []
  },
  {
   "cell_type": "code",
   "execution_count": null,
   "metadata": {},
   "outputs": [],
   "source": []
  },
  {
   "cell_type": "code",
   "execution_count": null,
   "metadata": {},
   "outputs": [],
   "source": []
  },
  {
   "cell_type": "code",
   "execution_count": null,
   "metadata": {},
   "outputs": [],
   "source": []
  }
 ],
 "metadata": {
  "kernelspec": {
   "display_name": "Python 3",
   "language": "python",
   "name": "python3"
  },
  "language_info": {
   "codemirror_mode": {
    "name": "ipython",
    "version": 3
   },
   "file_extension": ".py",
   "mimetype": "text/x-python",
   "name": "python",
   "nbconvert_exporter": "python",
   "pygments_lexer": "ipython3",
   "version": "3.7.4"
  }
 },
 "nbformat": 4,
 "nbformat_minor": 2
}
